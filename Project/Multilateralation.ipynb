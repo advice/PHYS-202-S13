{
 "metadata": {
  "name": "Multilateralation"
 },
 "nbformat": 3,
 "nbformat_minor": 0,
 "worksheets": [
  {
   "cells": [
    {
     "cell_type": "markdown",
     "metadata": {},
     "source": [
      "Table of Locations\n",
      "-"
     ]
    },
    {
     "cell_type": "markdown",
     "metadata": {},
     "source": [
      "Location: (x,y,z)\n",
      "\n",
      "Origin (Area 52 quad):(0,0,0) \n",
      "\n",
      "Rec Center:(0.15,-0.27,0.01)\n",
      "\n",
      "UU:(0.11,-0.17,0.01)\n",
      "\n",
      "Math/Science: (-0.165,0.042,0.01)\n",
      "\n",
      "VG's:(0.42,-0.235,0.02)\n",
      "\n",
      "Cerro Romauldo: (0.26,0.45,0.03)\n",
      "\n",
      "Aliso Parking Garage: (0.03,0.525,0)\n",
      "\n",
      "Kennedy Library: (-0.295,0.075,.0.015)\n",
      "\n",
      "Freemont Hall: (0.41,0.11,0.025)"
     ]
    },
    {
     "cell_type": "code",
     "collapsed": false,
     "input": [],
     "language": "python",
     "metadata": {},
     "outputs": [],
     "prompt_number": 50
    },
    {
     "cell_type": "code",
     "collapsed": false,
     "input": [],
     "language": "python",
     "metadata": {},
     "outputs": []
    },
    {
     "cell_type": "code",
     "collapsed": false,
     "input": [
      " # the locations are organized in the order they appear in the table. With the origin being area 52 quad. All are measured in Kilometers\n",
      "locx = [0,0.15,0.11,-0.165,0.42,0.26,0.03,-0.295,0.41] #x coordinates of the detectors\n",
      "locy = [0,-0.27,-0.17,0.042,-0.235,0.45,0.525,0.075,0.11] #y coordinates of detectors\n",
      "h = 15. #height from earth of first collision\n",
      "\n",
      "x = random.uniform(-0.65, 0.65)#random x coord of first interaction with radius of 0.65 km\n",
      "y = random.uniform(-0.65, 0.65)#random y coord of first interaction with radius of 0.65 km\n",
      "\n",
      "angle_i = random.uniform(0, pi/30)#random angle of first interaction in top of atmosphere\n",
      "H = h/cos(angle) #distance from first interaction to earth \n",
      "print H, angle_i\n",
      "\n"
     ],
     "language": "python",
     "metadata": {},
     "outputs": [
      {
       "output_type": "stream",
       "stream": "stdout",
       "text": [
        "15.0220118761 0.0223710923497\n"
       ]
      }
     ],
     "prompt_number": 42
    },
    {
     "cell_type": "code",
     "collapsed": false,
     "input": [
      "angle_f = .0174 #(radians) half angle of 1 degree\n",
      "r_c = H*sin(angle_f) # radius of the cone on ground\n",
      "\n",
      "D = h*sin(angle_i)#distance from center of projected cone to origin\n",
      "print x, D, r_c\n",
      "print x + D - r_c\n",
      "\n",
      "count = 0 #number of detectors hit\n",
      "#projected cone is outside of the r = 0.65km circle on earth \n",
      "if abs(x + D - r_c) > 1.3 or abs(y + D - r_c) > 1.3:\n",
      "    count += 0 \n",
      "    print \"number of muons detected =\", count\n",
      "else: \n",
      "    for n in range(0,9):\n",
      "        if locx[n] in range(int(x+D-r_c),int(x+D-r_c)) or locy[n] in range(int(y+D-r_c),int(y+D-r_c)):\n",
      "            count += 1\n",
      "            print \"number of muons detected =\", count\n",
      "    \n"
     ],
     "language": "python",
     "metadata": {},
     "outputs": [
      {
       "output_type": "stream",
       "stream": "stdout",
       "text": [
        "0.521011345782 0.335538396031 0.261369817457\n",
        "0.595179924356\n"
       ]
      }
     ],
     "prompt_number": 44
    },
    {
     "cell_type": "code",
     "collapsed": false,
     "input": [],
     "language": "python",
     "metadata": {},
     "outputs": [],
     "prompt_number": 9
    },
    {
     "cell_type": "code",
     "collapsed": false,
     "input": [],
     "language": "python",
     "metadata": {},
     "outputs": []
    }
   ],
   "metadata": {}
  }
 ]
}