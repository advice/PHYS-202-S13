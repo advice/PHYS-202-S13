{
 "metadata": {
  "name": "Multilateralation"
 },
 "nbformat": 3,
 "nbformat_minor": 0,
 "worksheets": [
  {
   "cells": [
    {
     "cell_type": "markdown",
     "metadata": {},
     "source": [
      "Table of Locations\n",
      "-"
     ]
    },
    {
     "cell_type": "markdown",
     "metadata": {},
     "source": [
      "Location: (x,y,z)\n",
      "\n",
      "Origin (Area 52 quad):(0,0,0) \n",
      "\n",
      "Rec Center:(0.15,-0.27,0.01)\n",
      "\n",
      "UU:(0.11,-0.17,0.01)\n",
      "\n",
      "Math/Science: (-0.165,0.042,0.01)\n",
      "\n",
      "VG's:(0.42,-0.235,0.02)\n",
      "\n",
      "Cerro Romauldo: (0.26,0.45,0.03)\n",
      "\n",
      "Aliso Parking Garage: (0.03,0.525,0)\n",
      "\n",
      "Kennedy Library: (-0.295,0.075,.0.015)\n",
      "\n",
      "Freemont Hall: (0.41,0.11,0.025)"
     ]
    },
    {
     "cell_type": "code",
     "collapsed": false,
     "input": [],
     "language": "python",
     "metadata": {},
     "outputs": [],
     "prompt_number": 50
    },
    {
     "cell_type": "code",
     "collapsed": false,
     "input": [],
     "language": "python",
     "metadata": {},
     "outputs": []
    },
    {
     "cell_type": "code",
     "collapsed": false,
     "input": [
      " #Locations of the detectors With the origin being area 52 quad. All are measured in Kilometers\n",
      "locx = [0,0.15,0.11,-0.165,0.42,0.26,0.03,-0.295,0.41] #x coordinates of the detectors\n",
      "locy = [0,-0.27,-0.17,0.042,-0.235,0.45,0.525,0.075,0.11] #y coordinates of detectors\n",
      "\n",
      "N= 100 #number of muon interactions\n",
      "h = 15. #height from earth of first collision\n",
      "angle_i = random.uniform(0, pi/45)#random angle of first interaction in top of atmosphere\n",
      "H = h/cos(angle_i) #distance to earth from the first collision\n",
      "\n",
      "angle_f = .0174 #(radians) half angle of 1 degree\n",
      "rc = H*sin(angle_f) # radius of the cone on ground\n",
      "\n",
      "x = random.uniform(-0.65, 0.65)#random x coord of first interaction with radius of 0.65 km\n",
      "y = random.uniform(-0.65, 0.65)#random y coord of first interaction with radius of 0.65 km\n",
      "\n",
      "\n",
      "print H, angle_i\n",
      "\n"
     ],
     "language": "python",
     "metadata": {},
     "outputs": [
      {
       "output_type": "stream",
       "stream": "stdout",
       "text": [
        "15.0125578918 0.0409049905897\n"
       ]
      }
     ],
     "prompt_number": 20
    },
    {
     "cell_type": "code",
     "collapsed": false,
     "input": [
      "\n",
      "\n",
      "D = h*sin(angle_i)#distance from center of projected cone to origin\n",
      "print x, D, rc\n",
      "print x + D - rc\n",
      "\n",
      "count = 0 #number of detectors hit\n",
      "#projected cone is outside of the r = 0.65km circle on earth \n",
      "if abs(x + D - rc) > 1.3 or abs(y + D - rc) > 1.3:\n",
      "    count += 0 \n",
      "else: \n",
      "    for n in range(0,9):\n",
      "        if locx[n] in range(int(x-D+rc),int(x+D-rc)) or locy[n] in range(int(y-D+rc),int(y+D-rc)):\n",
      "            count += 1\n",
      "            print \"ammount of muons =\", count\n",
      "    \n"
     ],
     "language": "python",
     "metadata": {},
     "outputs": [
      {
       "output_type": "stream",
       "stream": "stdout",
       "text": [
        "-0.506610899024 0.613403765717 0.261205326431\n",
        "-0.154412459738\n"
       ]
      }
     ],
     "prompt_number": 22
    },
    {
     "cell_type": "code",
     "collapsed": false,
     "input": [],
     "language": "python",
     "metadata": {},
     "outputs": [],
     "prompt_number": 9
    },
    {
     "cell_type": "code",
     "collapsed": false,
     "input": [],
     "language": "python",
     "metadata": {},
     "outputs": []
    }
   ],
   "metadata": {}
  }
 ]
}