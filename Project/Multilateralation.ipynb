{
 "metadata": {
  "name": "Multilateralation"
 },
 "nbformat": 3,
 "nbformat_minor": 0,
 "worksheets": [
  {
   "cells": [
    {
     "cell_type": "markdown",
     "metadata": {},
     "source": [
      "Table of Locations\n",
      "-"
     ]
    },
    {
     "cell_type": "markdown",
     "metadata": {},
     "source": [
      "Location: (x,y,z)\n",
      "\n",
      "Origin (Area 52 quad):(0,0,0) \n",
      "\n",
      "Rec Center:(0.15,-0.27,0.01)\n",
      "\n",
      "UU:(0.11,-0.17,0.01)\n",
      "\n",
      "Math/Science: (-0.165,0.042,0.01)\n",
      "\n",
      "VG's:(0.42,-0.235,0.02)\n",
      "\n",
      "Cerro Romauldo: (0.26,0.45,0.03)\n",
      "\n",
      "Aliso Parking Garage: (0.03,0.525,0)\n",
      "\n",
      "Kennedy Library: (-0.295,0.075,.0.015)\n",
      "\n",
      "Freemont Hall: (0.41,0.11,0.025)"
     ]
    },
    {
     "cell_type": "code",
     "collapsed": false,
     "input": [
      " #Locations of the detectors With the origin being area 52 quad. All are measured in Kilometers\n",
      "locx = [0,0.15,0.11,-0.165,0.42,0.26,0.03,-0.295,0.41] #x coordinates of the detectors\n",
      "locy = [0,-0.27,-0.17,0.042,-0.235,0.45,0.525,0.075,0.11] #y coordinates of detectors\n",
      "\n",
      "N= 50 #number of muon interactions\n",
      "h = 15. #height from earth of first collision\n",
      "\n",
      "angle_f = .0174 #(radians) half angle of 1 degree\n",
      "\n",
      "\n",
      "x=zeros(N, float) ;y= zeros(N, float);angle=zeros(N, float)\n",
      "for n in range(N):\n",
      "    x[n] = random.uniform(-0.65, 0.65)#random x coord of first interaction with radius of 0.65 km\n",
      "    y[n] = random.uniform(-0.65, 0.65)#random y coord of first interaction with radius of 0.65 km\n",
      "    angle[n] = random.uniform(0,pi/30)\n",
      "H=zeros(N, float);R_cone=zeros(N, float)\n",
      "\n",
      "for n in range(N):\n",
      "    H[n] = h/cos(angle[n])#distance to earth from the first collision\n",
      "    R_cone[n] = H[n]*sin(angle_f) \n"
     ],
     "language": "python",
     "metadata": {},
     "outputs": [],
     "prompt_number": 40
    },
    {
     "cell_type": "code",
     "collapsed": false,
     "input": [
      "D=zeros(N, float)\n",
      "\n",
      "for n in range(N):\n",
      "    D[n] = h*sin(angle[n])#distance from center of projected cone to origin\n",
      "\n",
      "count = 0 #number of detectors hit,cone is outside of the .65km radius circle on earth \n",
      "\n",
      "for n in range(N): #there are 9 detectors\n",
      "    for i in range(0,9): #the code below makes a count if the location is where one of the detectors is\n",
      "        if locx[i] in range(int(x[n]+D[n]-R_cone[n]),int(x[n]+D[n]+R_cone[n])) and locy[i] in range(int(y[n]+D[n]-R_cone[n]),int(y[n]+D[n]+R_cone[n])):\n",
      "            count += 1\n",
      "\n",
      "print \"The number of muons picked up by the detectors =\", count\n"
     ],
     "language": "python",
     "metadata": {},
     "outputs": [
      {
       "output_type": "stream",
       "stream": "stdout",
       "text": [
        "The number of muons picked up by the detectors = 5\n"
       ]
      }
     ],
     "prompt_number": 41
    },
    {
     "cell_type": "code",
     "collapsed": false,
     "input": [
      "if count > 3: #If there are more than 3 counts then the program continues\n",
      "    E = zeros(N,float)\n",
      "    c = 3.0*10**8 #speed of light\n",
      "    m = 0.1057 #mass of muon in GeV/c**2\n",
      "    \n",
      "    for n in range(N):\n",
      "        E[n] = random.normal(4*c**2,1.5*c**2) \n",
      "        #gaussian dist of E, mean = 4 GeV/c^2, sigma = 1.5 Gev/c^2\n",
      "\n",
      "    V = zeros(N, float)\n",
      "    for n in range(N):\n",
      "        v = (sqrt(1 - (m/(E[n]))**2)) #relativistic v of muon \n",
      "        V[n] = v\n",
      "    \n",
      "    t_e = zeros(N,float) \n",
      "    for n in range(N):\n",
      "        t_e[n] = H[n]/V[n] #Time it would take for an observer on earth to see the muon travel to a detector\n",
      "    \n",
      "    t_m = zeros(N,float)\n",
      "    for n in range(N):\n",
      "        #must find time dilation\n",
      "        t = t_e[n]*sqrt(1-(V[n]**2/c**2)) #Time the muon thinks it takes to get to earth\n",
      "        t_m[n] = t\n",
      "        \n",
      "    t0 = min(t_m) #The time at which the first muon arrives\n",
      "    \n",
      "    t0_index = t_m[t0] #index of the first muon to arrive\n",
      "    \n",
      "    d = random.uniform(0,0.05)#deviation of time\n",
      "    \n",
      "    t_rel = zeros(N, float) #array of arrival times for all other muons relative to t0\n",
      "    for n in range(N):\n",
      "        t_m[n] -= t0-+d\n",
      "        t_rel[n] = t_m[n]+d-t_m[t0_index]\n",
      "    \n",
      "    t_list = str(t_rel).strip(\"[]\")\n",
      "    f = open(\"relative times.txt\", \"w\")\n",
      "    f.write(t_list)\n",
      "    f.close()\n",
      "    print t_list"
     ],
     "language": "python",
     "metadata": {},
     "outputs": [
      {
       "output_type": "stream",
       "stream": "stdout",
       "text": [
        " -1.49464579e+01  -1.49206130e+01  -1.49688842e+01  -1.49858305e+01\n",
        "  -1.49883000e+01  -1.49825942e+01  -1.49947666e+01  -1.49693314e+01\n",
        "  -1.49902528e+01  -1.49427410e+01  -1.49276640e+01  -1.49918267e+01\n",
        "  -1.49421151e+01  -1.49566809e+01  -1.49737674e+01   2.06590454e-02\n",
        "   2.37801090e-02   2.48120187e-02  -7.47889218e-03  -6.03187139e-03\n",
        "  -2.44797240e-03  -2.80492564e-03  -7.44551121e-03  -1.28148936e-02\n",
        "   3.08214359e-03  -9.35817499e-04  -1.05609529e-02  -5.10383485e-03\n",
        "   4.35723713e-02  -1.55361050e-02   5.66171087e-02  -4.52121742e-03\n",
        "  -1.18019090e-02   1.87874110e-02  -8.64667666e-03   2.56017999e-02\n",
        "  -1.53559490e-02   1.00768110e-02   5.57131304e-02  -1.23922096e-02\n",
        "   3.77647551e-02   6.33724921e-02   3.76427861e-02   5.35633316e-02\n",
        "  -1.53205315e-02   7.12547355e-03  -2.87515577e-03  -4.57371406e-03\n",
        "   4.16778156e-03  -1.05606968e-02\n"
       ]
      }
     ],
     "prompt_number": 42
    },
    {
     "cell_type": "code",
     "collapsed": false,
     "input": [
      "f = open(\"relative times.txt\", \"r\")\n",
      "f.read(len(t_rel)*N)"
     ],
     "language": "python",
     "metadata": {},
     "outputs": [
      {
       "output_type": "pyout",
       "prompt_number": 43,
       "text": [
        "' -1.49464579e+01  -1.49206130e+01  -1.49688842e+01  -1.49858305e+01\\n  -1.49883000e+01  -1.49825942e+01  -1.49947666e+01  -1.49693314e+01\\n  -1.49902528e+01  -1.49427410e+01  -1.49276640e+01  -1.49918267e+01\\n  -1.49421151e+01  -1.49566809e+01  -1.49737674e+01   2.06590454e-02\\n   2.37801090e-02   2.48120187e-02  -7.47889218e-03  -6.03187139e-03\\n  -2.44797240e-03  -2.80492564e-03  -7.44551121e-03  -1.28148936e-02\\n   3.08214359e-03  -9.35817499e-04  -1.05609529e-02  -5.10383485e-03\\n   4.35723713e-02  -1.55361050e-02   5.66171087e-02  -4.52121742e-03\\n  -1.18019090e-02   1.87874110e-02  -8.64667666e-03   2.56017999e-02\\n  -1.53559490e-02   1.00768110e-02   5.57131304e-02  -1.23922096e-02\\n   3.77647551e-02   6.33724921e-02   3.76427861e-02   5.35633316e-02\\n  -1.53205315e-02   7.12547355e-03  -2.87515577e-03  -4.57371406e-03\\n   4.16778156e-03  -1.05606968e-02'"
       ]
      }
     ],
     "prompt_number": 43
    },
    {
     "cell_type": "code",
     "collapsed": false,
     "input": [],
     "language": "python",
     "metadata": {},
     "outputs": []
    }
   ],
   "metadata": {}
  }
 ]
}