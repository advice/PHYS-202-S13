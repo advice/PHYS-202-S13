{
 "metadata": {
  "name": "Multilateralation"
 },
 "nbformat": 3,
 "nbformat_minor": 0,
 "worksheets": [
  {
   "cells": [
    {
     "cell_type": "markdown",
     "metadata": {},
     "source": [
      "Project Description\n",
      "=\n",
      "For this project, you will simulate and then reconstruct the trajectories of primary cosmic rays using secondary muon arrival times at detectors located on the rooftops of various Cal Poly buildings with a technique known as multilateration. Your program will be divided into two parts - the simulation component and the reconstruction algorithms.\n",
      "-\n",
      "\n",
      "\u000f Randomly generate a set of N primary particle incidence angles and interaction\n",
      "locations in a circular area of diameter 1.3km at the top of the atmosphere (15 km\n",
      "up) centered above the Cal Poly campus. Let N be a parameter that you can vary\n",
      "to increase or decrease your simulation sample.\n",
      "\n",
      "\u000f Extrapolate a cone of opening (half-)angle 1 about each primary particle's direction\n",
      "to the surface and determine which of your detectors lie within the cone. If fewer\n",
      "than three of your detectors are hit, discard the event. The number of hit detectors\n",
      "is the number of muons, n for this event. Let the ith detector correspond to the ith\n",
      "muon.\n",
      "\n",
      "\u000f Randomly generate an energy for each muon  distributed according to a Gaussian\n",
      "with a mean value of 4 GeV/c^2 and sigma = 1.5 GeV/c^2.\n",
      "\n",
      "\u000f Use the energy to determine each muon's velocity (relativistically!) and use this to\n",
      "calculate the travel time for each muon to its detector.\n",
      "\n",
      "\u000f The one with the smallest travel time is the one that will arrive \f",
      "rst. That arrival\n",
      "time will represent the t0 for the cosmic shower event. Subtract t0  from the travel\n",
      "times of all the other particles, where t is a randomly determined value between 0\n",
      "and 0.05.\n",
      "\n",
      "\u000f The set of n arrival times relative to t0 form the complete dataset for one cosmic\n",
      "ray shower event. Your program should generate an output \f",
      "le with N lines of data.\n",
      "Each line will have a row of n arrival times (relative to t0).\n",
      "\n",
      "Once you have a simulated set of muon arrival times from a primary cosmic ray particle, you can create a reconstruction program to try to \f",
      "nd the primary cosmic ray's direction from the timing signals. For this you will:\n",
      "-\n",
      "\n",
      "\u000f Write a multilateration algorithm to compute the location and angle of the incident\n",
      "muon from the timing signals for each cosmic ray event.\n",
      "\n",
      "\u000f You will need to read the data in from your simulation output \f",
      "le, process it with\n",
      "your algorithm and store the result.\n",
      "\n",
      "\u000f Plot the simulated incident angles vs. the reconstructed angles to see how well your\n",
      "algorithm determines the incident angles.\n",
      "\n",
      "\u000f Plot the simulated incident locations vs. the reconstructed locations to see how well\n",
      "your algorithm reproduces the interaction location.\n",
      "\n",
      "\u000f Plot the error in your reconstructed angles/locations vs. the number of detectors\n",
      "included in the algorithm.\n",
      "\n",
      "\u000f Plot the error in your reconstructed angles/locations vs. the average distance between\n",
      "hit detectors.\n",
      "\n",
      "An accurate reconstruction algorithm will produce correlation plots (simulated vs. re- constructed) with data following a straight line with slope of one. The spread in the data points about this line represents the precision or relative uncertainty in your algorithm. Which parameter is better determined? What might inuence the uncertainties in your reconstructed results? What could you do to improve(minimize) them? Keep in mind that in the real world, you would only be able to control how you design and carry out the experiment, not how the muons are created. What is the effciency of your simulation? That is, how many events did you have to throw away because fewer than 3 detectors were hit? How might you (re-)design your experiment to improve this effciency?\n",
      "-"
     ]
    },
    {
     "cell_type": "markdown",
     "metadata": {},
     "source": [
      "Table of Locations\n",
      "-"
     ]
    },
    {
     "cell_type": "markdown",
     "metadata": {},
     "source": [
      "Location: (x,y,z)\n",
      "\n",
      "Origin (Area 52 quad):(0,0,0) \n",
      "\n",
      "Rec Center:(0.15,-0.27,0.01)\n",
      "\n",
      "UU:(0.11,-0.17,0.01)\n",
      "\n",
      "Math/Science: (-0.165,0.042,0.01)\n",
      "\n",
      "VG's:(0.42,-0.235,0.02)\n",
      "\n",
      "Cerro Romauldo: (0.26,0.45,0.03)\n",
      "\n",
      "Aliso Parking Garage: (0.03,0.525,0)\n",
      "\n",
      "Kennedy Library: (-0.295,0.075,.0.015)\n",
      "\n",
      "Freemont Hall: (0.41,0.11,0.025)"
     ]
    },
    {
     "cell_type": "markdown",
     "metadata": {},
     "source": [
      "Setting up Detectors\n",
      "-"
     ]
    },
    {
     "cell_type": "code",
     "collapsed": false,
     "input": [
      "from random import gauss\n",
      "#Locations of the detectors With the origin being area 52 quad. All are measured in Kilometers\n",
      "x_location = [0,0.15,0.11,-0.165,0.42,0.26,0.03,-0.295,0.41] #x coordinates of the detectors\n",
      "y_location = [0,-0.27,-0.17,0.042,-0.235,0.45,0.525,0.075,0.11] #y coordinates of detectors\n",
      "z_location = [0, 0.01, 0.01, 0.01, 0.02, 0.03, 0, 0.025, 0.025]\n",
      "\n",
      "N= 100 #number of muon interactions\n",
      "h = 15. #height from earth of first collision\n",
      "\n",
      "angle_f = 0.0174 #(radians) half angle of 1 degree\n",
      "\n",
      "\n",
      "x=zeros(N, float) ;y= zeros(N, float);angle=zeros(N, float)\n",
      "\n",
      "for n in range(N):\n",
      "    x[n] = random.uniform(-0.65, 0.65)#random x coord of first interaction with radius of 0.65 km\n",
      "    y[n] = random.uniform(-0.65, 0.65)#random y coord of first interaction with radius of 0.65 km\n",
      "    angle[n] = random.uniform(0,pi/30)\n",
      "    \n",
      "H=zeros(N, float);R_cone=zeros(N, float)\n",
      "\n",
      "for i in range(N):\n",
      "    H[i] = h/cos(angle[i])#distance to earth from the first collision\n",
      "    R_cone[i] = H[i]*sin(angle_f) \n",
      "\n",
      "\n",
      "scatter(x,y, color = \"r\")\n",
      "title(\"Random Muon Interactions\")\n",
      "show()\n",
      "\n",
      "figure(figsize=(5,5))\n",
      "Det_locs = Circle((0,0),0.65,color='g',fill=False)\n",
      "gca().add_artist(Det_locs)\n",
      "scatter(x_location,y_location)\n",
      "scatter(x,y, color = \"r\")\n",
      "title(\"Detector locations\")\n",
      "xlim(-0.7,0.7)\n",
      "ylim(-0.7,0.7)\n",
      "show()"
     ],
     "language": "python",
     "metadata": {},
     "outputs": [
      {
       "output_type": "display_data",
       "png": "[encoded data removed]"
      },
      {
       "output_type": "display_data",
       "png": "[encoded data removed]"
      }
     ],
     "prompt_number": 17
    },
    {
     "cell_type": "markdown",
     "metadata": {},
     "source": [
      "Calculating Collisions\n",
      "-"
     ]
    },
    {
     "cell_type": "code",
     "collapsed": false,
     "input": [
      "D=zeros(N, float)\n",
      "\n",
      "for n in range(N):\n",
      "    D[n] = h*sin(angle[n])#distance from center of projected cone to origin\n",
      "\n",
      "count = 0 #number of detectors hit,cone is outside of the .65km radius circle on earth \n",
      "\n",
      "\n",
      "hit_detector = []\n",
      "collision_number = []\n",
      "\n",
      "\n",
      "for n in range(N): #there are 9 detectors\n",
      "    for i in range(0,9): #the code below makes a count if the location is where one of the detectors is\n",
      "        if x_location[i] > x[n]+D[n]-R_cone[n] and x_location[i] < x[n]+D[n]+R_cone[n] and y_location[i] > y[n]+D[n]-R_cone[n] and y_location[i] < y[n]+D[n]+R_cone[n]:\n",
      "            count += 1\n",
      "            hit_detector.append(i)\n",
      "            #print n, hit_detector\n",
      "    \n",
      "    if len(hit_detector) > 2:\n",
      "        collision_number.append(hit_detector)\n",
      "        hit_detector = []\n",
      "\n",
      "print \"The number of muons picked up by the detectors =\", count, \"The detectors that were hit are:\", collision_number\n"
     ],
     "language": "python",
     "metadata": {},
     "outputs": [
      {
       "output_type": "stream",
       "stream": "stdout",
       "text": [
        "The number of muons picked up by the detectors = 40 The detectors that were hit are: [[7, 0, 1, 2, 4], [5, 0, 3, 7], [3, 6, 7], [3, 5, 5, 6, 8], [8, 0, 3, 7], [5, 6, 3, 7], [4, 8, 7], [0, 3, 7], [5, 6, 8], [6, 1, 2, 4]]\n"
       ]
      }
     ],
     "prompt_number": 18
    },
    {
     "cell_type": "markdown",
     "metadata": {},
     "source": [
      "Calculating Collision Times\n",
      "-"
     ]
    },
    {
     "cell_type": "code",
     "collapsed": false,
     "input": [
      "time_hit = []\n",
      "mean = 4 #gaussian distribution of energy both in GeV/c^2\n",
      "sigma = 1.5\n",
      "\n",
      "c = 3.0*10**8 #speed of light\n",
      "m = .1057 #mass of muon in GeV/c**2\n",
      "\n",
      "\n",
      "for col1 in collision_number:\n",
      "    \n",
      "    for i in range(len(col1)+1):\n",
      "        Emuon = []\n",
      "        for n in range(i):\n",
      "            Emuon.append(random.normal(mean,sigma))\n",
      "            \n",
      "        Vmuon = []\n",
      "        for n in range(i):\n",
      "            v = (sqrt(1-(m/(Emuon[n]))**2))*c #relativistic velocity\n",
      "            Vmuon.append(v)\n",
      "            \n",
      "        time = []\n",
      "        for n in range(i): #time for an observer on earth to see the muon go to the detector\n",
      "            t = H[n]/Vmuon[n]\n",
      "            time.append(t)\n",
      " \n",
      "        if len(time) == len(col1):\n",
      "            time_hit.append(time)\n",
      "  \n",
      "            \n",
      "detection_time = ones(10, float)*(-1) # array for the times of the other muons in relation to t0\n",
      "\n",
      "t=[]\n",
      "\n",
      "d=random.uniform(0,0.05) #time deviation\n",
      "for t_0 in time_hit:\n",
      "    t0 = min(t_0)\n",
      "    index = t_0.index(t0)\n",
      "# this will set the first time to be hit equal to zero so all the other times are relative to it    \n",
      "    for i in range(len(t_0)):\n",
      "        if i != index:\n",
      "            t_0[i] = t_0[i]-t0 +d*t_0[i]\n",
      "        t_0[index] = 0  \n",
      "\n",
      "a=0\n",
      "for i in range(len(collision_number)):\n",
      "    if a < len(time_hit[i]):\n",
      "        for n in collision_number[i]:\n",
      "            detection_time[n] = time_hit[i][a]\n",
      "            a+=1\n",
      "    t.append(detection_time)\n",
      "    detection_time = ones(10, float)*(-1)\n",
      "    a = 0\n",
      "    \n",
      "print t"
     ],
     "language": "python",
     "metadata": {},
     "outputs": [
      {
       "output_type": "stream",
       "stream": "stdout",
       "text": [
        "[array([  2.72810616e-10,   4.82766737e-10,   2.48603181e-10,\n",
        "        -1.00000000e+00,   7.10539197e-10,  -1.00000000e+00,\n",
        "        -1.00000000e+00,   0.00000000e+00,  -1.00000000e+00,\n",
        "        -1.00000000e+00]), array([  2.76709665e-10,  -1.00000000e+00,  -1.00000000e+00,\n",
        "         4.24930957e-10,  -1.00000000e+00,   0.00000000e+00,\n",
        "        -1.00000000e+00,   2.40454083e-10,  -1.00000000e+00,\n",
        "        -1.00000000e+00]), array([ -1.00000000e+00,  -1.00000000e+00,  -1.00000000e+00,\n",
        "         0.00000000e+00,  -1.00000000e+00,  -1.00000000e+00,\n",
        "         2.22249083e-09,   4.06366091e-10,  -1.00000000e+00,\n",
        "        -1.00000000e+00]), array([ -1.00000000e+00,  -1.00000000e+00,  -1.00000000e+00,\n",
        "         4.69250599e-10,  -1.00000000e+00,   4.08197620e-10,\n",
        "         2.30901446e-10,  -1.00000000e+00,   3.12878664e-10,\n",
        "        -1.00000000e+00]), array([  2.34355430e-10,  -1.00000000e+00,  -1.00000000e+00,\n",
        "         4.17824581e-10,  -1.00000000e+00,  -1.00000000e+00,\n",
        "        -1.00000000e+00,   2.56162758e-10,   0.00000000e+00,\n",
        "        -1.00000000e+00]), array([ -1.00000000e+00,  -1.00000000e+00,  -1.00000000e+00,\n",
        "         4.23238555e-10,  -1.00000000e+00,   0.00000000e+00,\n",
        "         2.27312770e-10,   2.41793103e-10,  -1.00000000e+00,\n",
        "        -1.00000000e+00]), array([ -1.00000000e+00,  -1.00000000e+00,  -1.00000000e+00,\n",
        "        -1.00000000e+00,   0.00000000e+00,  -1.00000000e+00,\n",
        "        -1.00000000e+00,   4.28361220e-10,   2.61433162e-10,\n",
        "        -1.00000000e+00]), array([  0.00000000e+00,  -1.00000000e+00,  -1.00000000e+00,\n",
        "         2.26903691e-10,  -1.00000000e+00,  -1.00000000e+00,\n",
        "        -1.00000000e+00,   4.12453561e-10,  -1.00000000e+00,\n",
        "        -1.00000000e+00]), array([ -1.00000000e+00,  -1.00000000e+00,  -1.00000000e+00,\n",
        "        -1.00000000e+00,  -1.00000000e+00,   0.00000000e+00,\n",
        "         2.83659468e-10,  -1.00000000e+00,   4.11197306e-10,\n",
        "        -1.00000000e+00]), array([ -1.00000000e+00,   2.76180027e-10,   4.22657390e-10,\n",
        "        -1.00000000e+00,   4.27848067e-10,  -1.00000000e+00,\n",
        "         0.00000000e+00,  -1.00000000e+00,  -1.00000000e+00,\n",
        "        -1.00000000e+00])]\n"
       ]
      }
     ],
     "prompt_number": 19
    },
    {
     "cell_type": "code",
     "collapsed": false,
     "input": [
      "savetxt('relative times.txt',t)"
     ],
     "language": "python",
     "metadata": {},
     "outputs": [],
     "prompt_number": 20
    },
    {
     "cell_type": "code",
     "collapsed": false,
     "input": [
      "Timesheet= loadtxt('relative times.txt')#open array of times, t, as a txt file\n",
      "print Timesheet.shape\n",
      "print Timesheet"
     ],
     "language": "python",
     "metadata": {},
     "outputs": [
      {
       "output_type": "stream",
       "stream": "stdout",
       "text": [
        "(10, 10)\n",
        "[[  2.72810616e-10   4.82766737e-10   2.48603181e-10  -1.00000000e+00\n",
        "    7.10539197e-10  -1.00000000e+00  -1.00000000e+00   0.00000000e+00\n",
        "   -1.00000000e+00  -1.00000000e+00]\n",
        " [  2.76709665e-10  -1.00000000e+00  -1.00000000e+00   4.24930957e-10\n",
        "   -1.00000000e+00   0.00000000e+00  -1.00000000e+00   2.40454083e-10\n",
        "   -1.00000000e+00  -1.00000000e+00]\n",
        " [ -1.00000000e+00  -1.00000000e+00  -1.00000000e+00   0.00000000e+00\n",
        "   -1.00000000e+00  -1.00000000e+00   2.22249083e-09   4.06366091e-10\n",
        "   -1.00000000e+00  -1.00000000e+00]\n",
        " [ -1.00000000e+00  -1.00000000e+00  -1.00000000e+00   4.69250599e-10\n",
        "   -1.00000000e+00   4.08197620e-10   2.30901446e-10  -1.00000000e+00\n",
        "    3.12878664e-10  -1.00000000e+00]\n",
        " [  2.34355430e-10  -1.00000000e+00  -1.00000000e+00   4.17824581e-10\n",
        "   -1.00000000e+00  -1.00000000e+00  -1.00000000e+00   2.56162758e-10\n",
        "    0.00000000e+00  -1.00000000e+00]\n",
        " [ -1.00000000e+00  -1.00000000e+00  -1.00000000e+00   4.23238555e-10\n",
        "   -1.00000000e+00   0.00000000e+00   2.27312770e-10   2.41793103e-10\n",
        "   -1.00000000e+00  -1.00000000e+00]\n",
        " [ -1.00000000e+00  -1.00000000e+00  -1.00000000e+00  -1.00000000e+00\n",
        "    0.00000000e+00  -1.00000000e+00  -1.00000000e+00   4.28361220e-10\n",
        "    2.61433162e-10  -1.00000000e+00]\n",
        " [  0.00000000e+00  -1.00000000e+00  -1.00000000e+00   2.26903691e-10\n",
        "   -1.00000000e+00  -1.00000000e+00  -1.00000000e+00   4.12453561e-10\n",
        "   -1.00000000e+00  -1.00000000e+00]\n",
        " [ -1.00000000e+00  -1.00000000e+00  -1.00000000e+00  -1.00000000e+00\n",
        "   -1.00000000e+00   0.00000000e+00   2.83659468e-10  -1.00000000e+00\n",
        "    4.11197306e-10  -1.00000000e+00]\n",
        " [ -1.00000000e+00   2.76180027e-10   4.22657390e-10  -1.00000000e+00\n",
        "    4.27848067e-10  -1.00000000e+00   0.00000000e+00  -1.00000000e+00\n",
        "   -1.00000000e+00  -1.00000000e+00]]\n"
       ]
      }
     ],
     "prompt_number": 21
    },
    {
     "cell_type": "markdown",
     "metadata": {},
     "source": [
      "Multilateration\n",
      "-\n",
      "wikipedia article and office hours information"
     ]
    },
    {
     "cell_type": "markdown",
     "metadata": {},
     "source": [
      "as well as these two websites\n",
      "1: http://ine.scripts.mit.edu/blog/2011/05/gaussian-elimination-in-python\n",
      "\n",
      "2: http://cs.fit.edu/~ryan/cse4051/projects/multilateration/mult.pdf"
     ]
    },
    {
     "cell_type": "code",
     "collapsed": false,
     "input": [
      "regz = []\n",
      "opti = []\n",
      "count = 0\n",
      "\n",
      "for time in Timesheet:\n",
      "    for i in time:\n",
      "        if i != -1.0:\n",
      "            count += 1\n",
      "    if count == 5:\n",
      "        regz.append(time) \n",
      "    count = 0 \n",
      "    \n",
      "print \"r\",regz\n",
      "print \"o\",opti\n",
      "\n",
      "        "
     ],
     "language": "python",
     "metadata": {},
     "outputs": [
      {
       "output_type": "stream",
       "stream": "stdout",
       "text": [
        "r [array([  2.72810616e-10,   4.82766737e-10,   2.48603181e-10,\n",
        "        -1.00000000e+00,   7.10539197e-10,  -1.00000000e+00,\n",
        "        -1.00000000e+00,   0.00000000e+00,  -1.00000000e+00,\n",
        "        -1.00000000e+00])]\n",
        "o []\n"
       ]
      }
     ],
     "prompt_number": 22
    },
    {
     "cell_type": "code",
     "collapsed": false,
     "input": [
      "g = []\n",
      "compute =[]\n",
      "gaus = []\n",
      "v = (sqrt(1 - (m/(4)**2)))*c\n",
      "dets = [] \n",
      "\n",
      "\n",
      "for times in regz:\n",
      "    \n",
      "    for i in range(len(times)):\n",
      "        if times[i] == 0.0:\n",
      "            print \"origin\",i\n",
      "            x0 = x_location[i]\n",
      "            y0 = y_location[i]\n",
      "            z0 = z_location[i]\n",
      "            \n",
      "            \n",
      "    for i in range(len(times)):\n",
      "        if times[i] != 0.0 and times[i]!= -1.0:#comparison detectors\n",
      "            print \"comp\", i\n",
      "            x1 = x_location[i] -x0\n",
      "            y1 = y_location[i] -y0\n",
      "            z1 = z_location[i] -z0\n",
      "            t1 = times[i]\n",
      "            break\n",
      "            \n",
      "            \n",
      "    for i in range(len(times)):\n",
      "        if times[i] != -1.0 and times[i] != float(t1) and times[i]!= 0.0:\n",
      "            print i\n",
      "            dets.append(i)\n",
      "            Am = (2*x_location[i])/(v*times[i]) - 2*x1/v*t1\n",
      "            Bm = (2*y_location[i])/(v*times[i]) - 2*y1/v*t1\n",
      "            Cm = (2*z_location[i])/(v*times[i]) - 2*z1/v*t1\n",
      "            Dm = v*times[i] - v*t1\n",
      "            gaus = [Am, Bm, Cm, -Dm]\n",
      "        \n",
      "        g.append(gaus)\n",
      "        if len(g) == 3:\n",
      "            compute.append(g)\n",
      "            g =[]\n",
      "            \n",
      "            \n",
      "print x0,y0,z0\n",
      "print x1,y1,z1,t1\n",
      "print compute[2:] \n",
      "print dets"
     ],
     "language": "python",
     "metadata": {},
     "outputs": [
      {
       "output_type": "stream",
       "stream": "stdout",
       "text": [
        "origin 7\n",
        "comp 0\n",
        "1\n",
        "2\n",
        "4\n",
        "-0.295 0.075 0.025\n",
        "0.295 -0.075 -0.025 2.72810616118e-10\n",
        "[[[3.9537506710259502, -2.2122176373597577, 0.18827384147742621, -0.13088409395015177], [3.9537506710259502, -2.2122176373597577, 0.18827384147742621, -0.13088409395015177], [3.9537506710259502, -2.2122176373597577, 0.18827384147742621, -0.13088409395015177]]]\n",
        "[1, 2, 4]\n"
       ]
      }
     ],
     "prompt_number": 23
    },
    {
     "cell_type": "code",
     "collapsed": false,
     "input": [
      "### CODE HERE COMES FROM http://ine.scripts.mit.edu/blog/2011/05/gaussian-elimination-in-python/\n",
      "\n",
      "def myGauss(m):\n",
      "    #eliminate columns\n",
      "    for col in range(len(m[0])):\n",
      "        for row in range(col+1, len(m)):\n",
      "            r = [(rowValue * (-(m[row][col] / m[col][col]))) for rowValue in m[col]]\n",
      "            m[row] = [sum(pair) for pair in zip(m[row], r)]\n",
      "    #now backsolve by substitution\n",
      "    ans = []\n",
      "    m.reverse() #makes it easier to backsolve\n",
      "    for sol in range(len(m)):\n",
      "            if sol == 0:\n",
      "                ans.append(m[sol][-1] / m[sol][-2])\n",
      "            else:\n",
      "                inner = 0\n",
      "                #substitute in all known coefficients\n",
      "                for x in range(sol):\n",
      "                    inner += (ans[x]*m[sol][-2-x])\n",
      "                #the equation is now reduced to ax + b = c form\n",
      "                #solve with (c - b) / a\n",
      "                ans.append((m[sol][-1]-inner)/m[sol][-sol-2])\n",
      "    ans.reverse()\n",
      "    return ans\n",
      "\n",
      "### BORROWED CODE END\n",
      "\n",
      "locs = []\n",
      "for ABCD in compute[2:]:\n",
      "    loc = myGauss(ABCD)\n",
      "    print loc\n",
      "    locs.append(loc)"
     ],
     "language": "python",
     "metadata": {},
     "outputs": [
      {
       "output_type": "stream",
       "stream": "stdout",
       "text": [
        "[nan, nan, nan]\n"
       ]
      }
     ],
     "prompt_number": 29
    },
    {
     "cell_type": "markdown",
     "metadata": {},
     "source": [
      "Data Analysis\n",
      "-"
     ]
    },
    {
     "cell_type": "code",
     "collapsed": false,
     "input": [
      "### Something kept going wrong in the myGauss definition\n",
      "\n",
      "x_est = []\n",
      "y_est = []\n",
      "x_act = []\n",
      "y_act = []\n",
      "\n",
      "res = dets\n",
      "act = myGauss(ABCD)\n",
      "x_est.append(res[0])\n",
      "y_est.append(res[1])\n",
      "x_act.append(act[i][-2])\n",
      "y_act.append(act[i][-1])\n",
      "\n",
      "\n",
      "plot(arange(-1,1,0.1),arange(-1,1,0.1),label='1:1 ratio')\n",
      "scatter(x_est,x_act,color='red',label='exact x vs extimated x')\n",
      "xlabel('Estimated X')\n",
      "ylabel('Exact X')\n",
      "xlim(xmin=-0.5,xmax=0.5)\n",
      "ylim(ymin=-0.5,ymax=0.5)\n",
      "legend(loc=0)\n",
      "\n",
      "\n",
      "plot(arange(-1,1,0.1),arange(-1,1,0.1),label='1:1 ratio')\n",
      "scatter(y_est,y_act,color='blue',label='exact y vs estimated y')\n",
      "xlabel('Estimated Y')\n",
      "ylabel('Exact Y')\n",
      "xlim(xmin=-0.5,xmax=0.5)\n",
      "ylim(ymin=-0.5,ymax=0.5)\n",
      "legend(loc=0)\n",
      "\n",
      "show()"
     ],
     "language": "python",
     "metadata": {},
     "outputs": [
      {
       "ename": "TypeError",
       "evalue": "only integer arrays with one element can be converted to an index",
       "output_type": "pyerr",
       "traceback": [
        "\u001b[1;31m---------------------------------------------------------------------------\u001b[0m\n\u001b[1;31mTypeError\u001b[0m                                 Traceback (most recent call last)",
        "\u001b[1;32m<ipython-input-35-6e260d75a88e>\u001b[0m in \u001b[0;36m<module>\u001b[1;34m()\u001b[0m\n\u001b[0;32m     10\u001b[0m \u001b[0mx_est\u001b[0m\u001b[1;33m.\u001b[0m\u001b[0mappend\u001b[0m\u001b[1;33m(\u001b[0m\u001b[0mres\u001b[0m\u001b[1;33m[\u001b[0m\u001b[1;36m0\u001b[0m\u001b[1;33m]\u001b[0m\u001b[1;33m)\u001b[0m\u001b[1;33m\u001b[0m\u001b[0m\n\u001b[0;32m     11\u001b[0m \u001b[0my_est\u001b[0m\u001b[1;33m.\u001b[0m\u001b[0mappend\u001b[0m\u001b[1;33m(\u001b[0m\u001b[0mres\u001b[0m\u001b[1;33m[\u001b[0m\u001b[1;36m1\u001b[0m\u001b[1;33m]\u001b[0m\u001b[1;33m)\u001b[0m\u001b[1;33m\u001b[0m\u001b[0m\n\u001b[1;32m---> 12\u001b[1;33m \u001b[0mx_act\u001b[0m\u001b[1;33m.\u001b[0m\u001b[0mappend\u001b[0m\u001b[1;33m(\u001b[0m\u001b[0mact\u001b[0m\u001b[1;33m[\u001b[0m\u001b[0mi\u001b[0m\u001b[1;33m]\u001b[0m\u001b[1;33m[\u001b[0m\u001b[1;33m-\u001b[0m\u001b[1;36m2\u001b[0m\u001b[1;33m]\u001b[0m\u001b[1;33m)\u001b[0m\u001b[1;33m\u001b[0m\u001b[0m\n\u001b[0m\u001b[0;32m     13\u001b[0m \u001b[0my_act\u001b[0m\u001b[1;33m.\u001b[0m\u001b[0mappend\u001b[0m\u001b[1;33m(\u001b[0m\u001b[0mact\u001b[0m\u001b[1;33m[\u001b[0m\u001b[0mi\u001b[0m\u001b[1;33m]\u001b[0m\u001b[1;33m[\u001b[0m\u001b[1;33m-\u001b[0m\u001b[1;36m1\u001b[0m\u001b[1;33m]\u001b[0m\u001b[1;33m)\u001b[0m\u001b[1;33m\u001b[0m\u001b[0m\n\u001b[0;32m     14\u001b[0m \u001b[1;33m\u001b[0m\u001b[0m\n",
        "\u001b[1;31mTypeError\u001b[0m: only integer arrays with one element can be converted to an index"
       ]
      }
     ],
     "prompt_number": 35
    },
    {
     "cell_type": "code",
     "collapsed": false,
     "input": [],
     "language": "python",
     "metadata": {},
     "outputs": []
    }
   ],
   "metadata": {}
  }
 ]
}