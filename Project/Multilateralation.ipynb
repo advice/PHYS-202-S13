{
 "metadata": {
  "name": "Multilateralation"
 },
 "nbformat": 3,
 "nbformat_minor": 0,
 "worksheets": [
  {
   "cells": [
    {
     "cell_type": "markdown",
     "metadata": {},
     "source": [
      "Table of Locations\n",
      "-"
     ]
    },
    {
     "cell_type": "markdown",
     "metadata": {},
     "source": [
      "Location: (x,y,z)\n",
      "\n",
      "Origin (Area 52 quad):(0,0,0) \n",
      "\n",
      "Rec Center:(0.15,-0.27,0.01)\n",
      "\n",
      "UU:(0.11,-0.17,0.01)\n",
      "\n",
      "Math/Science: (-0.165,0.042,0.01)\n",
      "\n",
      "VG's:(0.42,-0.235,0.02)\n",
      "\n",
      "Cerro Romauldo: (0.26,0.45,0.03)\n",
      "\n",
      "Aliso Parking Garage: (0.03,0.525,0)\n",
      "\n",
      "Kennedy Library: (-0.295,0.075,.0.015)\n",
      "\n",
      "Freemont Hall: (0.41,0.11,0.025)"
     ]
    },
    {
     "cell_type": "code",
     "collapsed": false,
     "input": [
      " #Locations of the detectors With the origin being area 52 quad. All are measured in Kilometers\n",
      "locx = [0,0.15,0.11,-0.165,0.42,0.26,0.03,-0.295,0.41] #x coordinates of the detectors\n",
      "locy = [0,-0.27,-0.17,0.042,-0.235,0.45,0.525,0.075,0.11] #y coordinates of detectors\n",
      "\n",
      "N= 100 #number of muon interactions\n",
      "h = 15. #height from earth of first collision\n",
      "\n",
      "angle_f = .0174 #(radians) half angle of 1 degree\n",
      "\n",
      "\n",
      "x=[];y=[];angle=[]\n",
      "for n in range(N):\n",
      "    x.append(random.uniform(-0.65, 0.65))#random x coord of first interaction with radius of 0.65 km\n",
      "    y.append(random.uniform(-0.65, 0.65))#random y coord of first interaction with radius of 0.65 km\n",
      "    angle.append(random.uniform(0,pi/10))\n",
      "H=[];R_cone=[]\n",
      "\n",
      "for n in range(N):\n",
      "    H.append(h/cos(angle[n]))#distance to earth from the first collision\n",
      "    R_cone.append(H[n]*sin(angle_f)) \n"
     ],
     "language": "python",
     "metadata": {},
     "outputs": [],
     "prompt_number": 5
    },
    {
     "cell_type": "code",
     "collapsed": false,
     "input": [
      "D=[]\n",
      "\n",
      "for n in range(N):\n",
      "    D.append(h*sin(angle[n]))#distance from center of projected cone to origin\n",
      "\n",
      "count = 0 #number of detectors hit,cone is outside of the .65km radius circle on earth \n",
      "\n",
      "for i in range(0,9): #there are 9 detectors\n",
      "    for n in range(N): #the code below makes a count if the location is where one of the detectors is\n",
      "        if locx[i] in range(int(x[n]+D[n]-R_cone[n]),int(x[n]+D[n]+R_cone[n])) or locy[i] in range(int(y[n]+D[n]-R_cone[n]),int(y[n]+D[n]+R_cone[n])):\n",
      "            count += 1\n",
      "\n",
      "print \"The number of muons picked up by the detectors =\", count\n"
     ],
     "language": "python",
     "metadata": {},
     "outputs": [
      {
       "output_type": "stream",
       "stream": "stdout",
       "text": [
        "The number of muons picked up by the detectors = 11\n"
       ]
      }
     ],
     "prompt_number": 6
    },
    {
     "cell_type": "code",
     "collapsed": false,
     "input": [],
     "language": "python",
     "metadata": {},
     "outputs": []
    }
   ],
   "metadata": {}
  }
 ]
}