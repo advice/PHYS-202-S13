{
 "metadata": {
  "name": "Documentation Notebook"
 },
 "nbformat": 3,
 "nbformat_minor": 0,
 "worksheets": [
  {
   "cells": [
    {
     "cell_type": "markdown",
     "metadata": {},
     "source": [
      "Project Number 1: Multilateration for cosmic ray detection\n",
      "=\n",
      "\n",
      "\n",
      "\n",
      "\n"
     ]
    },
    {
     "cell_type": "markdown",
     "metadata": {},
     "source": [
      "Questions to be answered:\n",
      "-\n",
      "\n",
      "1. Describes the program - what it does and how.\n",
      "\n",
      "\n",
      "2. Shows how to run the program.\n",
      "\n",
      "\n",
      "3. Plots the results from running the program.\n",
      "\n",
      "\n",
      "4. Answers the questions included in the project description.\n",
      "\n",
      "\n",
      "5. Includes references to any source material used to construct the program (such as\n",
      "where you learned about multilateration algorithms)."
     ]
    },
    {
     "cell_type": "markdown",
     "metadata": {},
     "source": [
      "1.\n",
      "-\n",
      "\n",
      "The program I have written randomly generates N particles that interact and collide in Earth's atmosphere. Then I have simulated 9 detectors on Earth's surface to detect the muons that are created in the interactions. The muons have a random energy and velocity determined from that so that I can simulate which muon gets detected first and then have all the other detectors give me times relative to the first.\n",
      "\n",
      "Then I have the program attempt a multilateration so as to locate where in the atmopshere the collisions actually occured. Lastly I attempted to have the program plot my results and ran into trouble in that area."
     ]
    },
    {
     "cell_type": "markdown",
     "metadata": {},
     "source": [
      "2.\n",
      "-\n",
      "\n",
      "All one needs to do to run my program is press the run all button in the cell menu, and all the simulations will begin and most of the graphs will plot theemselves. "
     ]
    },
    {
     "cell_type": "markdown",
     "metadata": {},
     "source": [
      "3.\n",
      "-\n",
      "\n",
      "The program I wrote did not yeild any results that I was able to plot other than simple outlines of the simulation."
     ]
    },
    {
     "cell_type": "markdown",
     "metadata": {},
     "source": [
      "4.\n",
      "-\n",
      "\n",
      "The plots I should have seen would have been a linear representation of the simulation vs the reconstruction of the data to show how accurate I would have gotten. The reconstruction would have been much better the more detectors I had and the more each detector had been hit by a muon in the simulation. I had uncertainties in my program from not being accurate enough in my detector measurements as well as not having enough detectors in the first place. Also if I could have spent more time trying to improve on how my simulation determined when the first deector got hit as well as how the collision would have produced a hyperbola rather than a circle and if I had done a better job with determining the incident angle the muons hit at. \n",
      "\n",
      "In general I had to throw away close to half of my events because less than 3 muons hit a detector. Again I could improve this by increasing the number of detectors and better determine the angle at which the muons were coming in at. Also to have more detectors higher up. "
     ]
    },
    {
     "cell_type": "markdown",
     "metadata": {},
     "source": [
      "5.\n",
      "-\n",
      "The program I have to turn in for my project was completed by me with collaboration with Kaeleigh Reynolds, and some help from Ryan Morshead.\n",
      "\n",
      "Much of the program that I have in the beginning includes setting up the detectors, the simulation of collisions that happen in the sky, determining the energy and velocity of the muons, and finding the muon with the smallest travel time.. This was worked on by me and Kaeleigh in which we both had almost the same type of code working alone and so we consolodated to create code that was more efficiant as it used both of what we had discovered.\n",
      "\n",
      "After that we both were having lots of trouble with the multilateration part of the project and so we came to office hours, looked online, and spoke to Ryan in detail on what to do to make this part work. I understood how to do these on paper after some help getting it explained to me, but we managed to work together to find a solution to make the multilateration work in a program that evaluates the correct data that we wanted.\n",
      "\n",
      "I was not however able to figure out the best way to get all of my simulated vs reconstructed graphs plotted or any of my error plots working either. This is partly because I ran out of time to work, and also because a small portion of my Gaussian function wasn't working properly, as it was returning me with \"nan\"s."
     ]
    },
    {
     "cell_type": "code",
     "collapsed": false,
     "input": [],
     "language": "python",
     "metadata": {},
     "outputs": []
    }
   ],
   "metadata": {}
  }
 ]
}