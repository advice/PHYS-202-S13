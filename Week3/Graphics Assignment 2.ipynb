{
 "metadata": {
  "name": "Graphics Assignment 2"
 },
 "nbformat": 3,
 "nbformat_minor": 0,
 "worksheets": [
  {
   "cells": [
    {
     "cell_type": "markdown",
     "metadata": {},
     "source": [
      "1. Download the American Math Society's short math guide (ftp://ftp.ams.org/pub/tex/doc/amsmath/short-math-guide.pdf) for LATEX formatting of math equations and symbols. Use it as a reference to reproduce the following equations in markdown cells in your notebook. Be careful with parentheses and brackets - if they span over larger than one line, yours should too.\n",
      "----"
     ]
    },
    {
     "cell_type": "markdown",
     "metadata": {},
     "source": [
      "a)\n",
      "-"
     ]
    },
    {
     "cell_type": "markdown",
     "metadata": {},
     "source": [
      "\\begin{equation}\n",
      "\\Psi_{k}(x) = A\\biggl({\\frac{ik - a\\tanh(ax)}{ik+a}}\\biggr)e^{+ikx}\n",
      "\\end{equation}"
     ]
    },
    {
     "cell_type": "markdown",
     "metadata": {},
     "source": [
      "b)\n",
      "--"
     ]
    },
    {
     "cell_type": "markdown",
     "metadata": {},
     "source": [
      "\\begin{equation}\n",
      "v_1 = m_2\\sqrt{\\frac{2G}{M}\\biggl(\\frac{1}{r}-\\frac{1}{r_0}\\biggr)}\n",
      "\\end{equation}"
     ]
    },
    {
     "cell_type": "markdown",
     "metadata": {},
     "source": [
      "c)\n",
      "--"
     ]
    },
    {
     "cell_type": "markdown",
     "metadata": {},
     "source": [
      "\\begin{equation}\n",
      "f(\\theta) = \\frac{\\hslash}{p}\\sum\\limits_{\\ell=0}^{\\infty} (2\\ell+1)e^{i\\delta_{\\ell}}\\sin\\delta_{\\ell}P_{\\ell}(\\cos\\theta)\n",
      "\\end{equation}"
     ]
    },
    {
     "cell_type": "markdown",
     "metadata": {},
     "source": [
      "d)\n",
      "--"
     ]
    },
    {
     "cell_type": "markdown",
     "metadata": {},
     "source": [
      "\\begin{equation}\n",
      "\\frac{d\\sigma}{d\\Omega} = \\frac{k\\pi^2(\\pi-\\theta)}{mu_{0}^2\\theta^2(2\\pi-\\theta)^2\\sin\\theta}\n",
      "\\end{equation}"
     ]
    },
    {
     "cell_type": "markdown",
     "metadata": {},
     "source": [
      "e)\n",
      "--"
     ]
    },
    {
     "cell_type": "markdown",
     "metadata": {},
     "source": [
      "\\begin{equation}\n",
      "\\langle f\\rangle = \\frac{1}{\\tau}\\int\\limits_0^{\\tau} f(t)dt.\n",
      "\\end{equation}"
     ]
    },
    {
     "cell_type": "markdown",
     "metadata": {},
     "source": [
      "f)\n",
      "-"
     ]
    },
    {
     "cell_type": "markdown",
     "metadata": {},
     "source": [
      "\\begin{equation}\n",
      "\\Omega_S = \\omega\\frac{\\sin\\alpha}{\\sin\\theta} = \\frac{L}{\\lambda_1} = \\omega\\frac{\\sqrt{\\lambda_3^2+(\\lambda_1^2-\\lambda_3^2)\\sin\\alpha}}{\\lambda_1}\n",
      "\\end{equation}"
     ]
    },
    {
     "cell_type": "code",
     "collapsed": false,
     "input": [
      "i = 1j\n",
      "a = 1\n",
      "x = arange(-pi, )\n",
      "U = -((1/math.cosh(a*x)^2))\n",
      "plt.xticks(x, pi)\n"
     ],
     "language": "python",
     "metadata": {},
     "outputs": [
      {
       "ename": "TypeError",
       "evalue": "only length-1 arrays can be converted to Python scalars",
       "output_type": "pyerr",
       "traceback": [
        "\u001b[0;31m---------------------------------------------------------------------------\u001b[0m\n\u001b[0;31mTypeError\u001b[0m                                 Traceback (most recent call last)",
        "\u001b[0;32m<ipython-input-36-cd09d364769e>\u001b[0m in \u001b[0;36m<module>\u001b[0;34m()\u001b[0m\n\u001b[1;32m      2\u001b[0m \u001b[0ma\u001b[0m \u001b[0;34m=\u001b[0m \u001b[0;36m1\u001b[0m\u001b[0;34m\u001b[0m\u001b[0m\n\u001b[1;32m      3\u001b[0m \u001b[0mx\u001b[0m \u001b[0;34m=\u001b[0m \u001b[0marange\u001b[0m\u001b[0;34m(\u001b[0m\u001b[0;36m0.0\u001b[0m\u001b[0;34m,\u001b[0m \u001b[0;36m1.01\u001b[0m\u001b[0;34m,\u001b[0m \u001b[0;36m.01\u001b[0m\u001b[0;34m)\u001b[0m\u001b[0;34m\u001b[0m\u001b[0m\n\u001b[0;32m----> 4\u001b[0;31m \u001b[0mU\u001b[0m \u001b[0;34m=\u001b[0m \u001b[0;34m-\u001b[0m\u001b[0;34m(\u001b[0m\u001b[0;34m(\u001b[0m\u001b[0mmath\u001b[0m\u001b[0;34m.\u001b[0m\u001b[0mcosh\u001b[0m\u001b[0;34m(\u001b[0m\u001b[0ma\u001b[0m\u001b[0;34m*\u001b[0m\u001b[0mx\u001b[0m\u001b[0;34m)\u001b[0m\u001b[0;34m^\u001b[0m\u001b[0;34m(\u001b[0m\u001b[0;34m-\u001b[0m\u001b[0;36m2\u001b[0m\u001b[0;34m)\u001b[0m\u001b[0;34m)\u001b[0m\u001b[0;34m)\u001b[0m\u001b[0;34m\u001b[0m\u001b[0m\n\u001b[0m\u001b[1;32m      5\u001b[0m \u001b[0mplt\u001b[0m\u001b[0;34m.\u001b[0m\u001b[0mxticks\u001b[0m\u001b[0;34m(\u001b[0m\u001b[0mx\u001b[0m\u001b[0;34m,\u001b[0m \u001b[0mpi\u001b[0m\u001b[0;34m)\u001b[0m\u001b[0;34m\u001b[0m\u001b[0m\n",
        "\u001b[0;31mTypeError\u001b[0m: only length-1 arrays can be converted to Python scalars"
       ]
      }
     ],
     "prompt_number": 36
    },
    {
     "cell_type": "markdown",
     "metadata": {},
     "source": [
      "Question 3\n",
      "=="
     ]
    },
    {
     "cell_type": "code",
     "collapsed": false,
     "input": [
      "data = loadtxt(\"/Network/Servers/cp-file-home.cp-calpoly.edu/studentHome$/user/advice/PHYS-202-S13/Week3/sunspots.txt\")"
     ],
     "language": "python",
     "metadata": {},
     "outputs": [],
     "prompt_number": 39
    },
    {
     "cell_type": "code",
     "collapsed": false,
     "input": [
      "print data\n"
     ],
     "language": "python",
     "metadata": {},
     "outputs": [
      {
       "output_type": "stream",
       "stream": "stdout",
       "text": [
        "[[  0.00000000e+00   5.80000000e+01]\n",
        " [  1.00000000e+00   6.26000000e+01]\n",
        " [  2.00000000e+00   7.00000000e+01]\n",
        " ..., \n",
        " [  3.14000000e+03   2.52000000e+01]\n",
        " [  3.14100000e+03   2.35000000e+01]\n",
        " [  3.14200000e+03   2.16000000e+01]]\n"
       ]
      }
     ],
     "prompt_number": 40
    },
    {
     "cell_type": "markdown",
     "metadata": {},
     "source": [
      "a) Write some code that reads in the data and makes a graph of sunspots as a function of time. Format the x-axis labels to show the month and year. You will have to look up documentation for how to do this. Be sure to think about how to make this graph publication quality, i.e. it should have labels, a legend, and customized (i.e. NOT default)\u0000\n",
      "--"
     ]
    },
    {
     "cell_type": "code",
     "collapsed": false,
     "input": [
      "x = data[:,0]\n",
      "y = data[:,1]"
     ],
     "language": "python",
     "metadata": {},
     "outputs": [],
     "prompt_number": 41
    },
    {
     "cell_type": "code",
     "collapsed": false,
     "input": [
      "plot(data)"
     ],
     "language": "python",
     "metadata": {},
     "outputs": [
      {
       "output_type": "pyout",
       "prompt_number": 44,
       "text": [
        "[<matplotlib.lines.Line2D at 0x10a3345d0>,\n",
        " <matplotlib.lines.Line2D at 0x10a334690>]"
       ]
      },
      {
       "output_type": "display_data",
       "png": "[encoded data removed]"
      }
     ],
     "prompt_number": 44
    },
    {
     "cell_type": "code",
     "collapsed": false,
     "input": [],
     "language": "python",
     "metadata": {},
     "outputs": []
    }
   ],
   "metadata": {}
  }
 ]
}