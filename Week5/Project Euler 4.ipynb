{
 "metadata": {
  "name": "Project Euler 4"
 },
 "nbformat": 3,
 "nbformat_minor": 0,
 "worksheets": [
  {
   "cells": [
    {
     "cell_type": "markdown",
     "metadata": {},
     "source": [
      "A palindromic number reads the same both ways. The largest palindrome made from the product of two 2-digit numbers is 9009 = 91 x 99.\n",
      "\n",
      "Find the largest palindrome made from the product of two 3-digit numbers."
     ]
    },
    {
     "cell_type": "code",
     "collapsed": false,
     "input": [
      "n = 0\n",
      "for a in arange(999, 100, -1): #counts backwards from 999\n",
      "    for b in arange(a, 100, -1): #stops at 101\n",
      "        x = a * b\n",
      "        if x > n:\n",
      "            s = str(a * b) #creates a string\n",
      "            if s == s[::-1]: # checks the palindrome\n",
      "                 n = a * b\n",
      "print n"
     ],
     "language": "python",
     "metadata": {},
     "outputs": [
      {
       "output_type": "stream",
       "stream": "stdout",
       "text": [
        "906609\n"
       ]
      }
     ],
     "prompt_number": 8
    },
    {
     "cell_type": "code",
     "collapsed": false,
     "input": [
      "n = 0 #Testcase\n",
      "for a in arange(99, 10, -1): #counts backwards from 99\n",
      "    for b in arange(a, 10, -1): #stops counting at 11\n",
      "        x = a * b\n",
      "        if x > n:\n",
      "            s = str(a * b) #turns into a string\n",
      "            if s == s[::-1]:\n",
      "                 n = a * b\n",
      "print n"
     ],
     "language": "python",
     "metadata": {},
     "outputs": [
      {
       "output_type": "stream",
       "stream": "stdout",
       "text": [
        "9009\n"
       ]
      }
     ],
     "prompt_number": 16
    },
    {
     "cell_type": "code",
     "collapsed": false,
     "input": [],
     "language": "python",
     "metadata": {},
     "outputs": []
    }
   ],
   "metadata": {}
  }
 ]
}