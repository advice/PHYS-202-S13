{
 "metadata": {
  "name": "IntegrationEx4"
 },
 "nbformat": 3,
 "nbformat_minor": 0,
 "worksheets": [
  {
   "cells": [
    {
     "cell_type": "markdown",
     "metadata": {},
     "source": [
      "1.\n",
      "=="
     ]
    },
    {
     "cell_type": "markdown",
     "metadata": {},
     "source": [
      "a)\n",
      "-"
     ]
    },
    {
     "cell_type": "code",
     "collapsed": false,
     "input": [
      "E = lambda t: exp(-t**2)\n",
      "N = 10000\n",
      "a = 0\n",
      "b = 3\n",
      "t = arange(a, b,0.001)\n",
      "t_i = (b-a)*random_sample(N)+a\n",
      "I_N = (b-a)*sum(f(t_i))/N\n",
      "print I_N"
     ],
     "language": "python",
     "metadata": {},
     "outputs": [
      {
       "output_type": "stream",
       "stream": "stdout",
       "text": [
        "nan\n"
       ]
      }
     ],
     "prompt_number": 63
    },
    {
     "cell_type": "markdown",
     "metadata": {},
     "source": [
      "b)\n",
      "-"
     ]
    },
    {
     "cell_type": "code",
     "collapsed": false,
     "input": [
      "plot(x, E(x),label = 'E(x)')\n",
      "title('E(x) vs x', fontsize=20)\n",
      "\n",
      "show()"
     ],
     "language": "python",
     "metadata": {},
     "outputs": [
      {
       "output_type": "display_data",
       "png": "[encoded data removed]"
      }
     ],
     "prompt_number": 62
    },
    {
     "cell_type": "markdown",
     "metadata": {},
     "source": [
      "2.\n",
      "="
     ]
    },
    {
     "cell_type": "markdown",
     "metadata": {},
     "source": [
      "a)\n",
      "-"
     ]
    },
    {
     "cell_type": "code",
     "collapsed": false,
     "input": [
      "L = 1\n",
      "import scipy.integrate as integrate\n",
      "Ygs = sqrt(2/L)*sin(pi*x/L)\n",
      "Yfs = sqrt(2/L)*sin(2*pi*x/L)\n"
     ],
     "language": "python",
     "metadata": {},
     "outputs": [],
     "prompt_number": 197
    },
    {
     "cell_type": "code",
     "collapsed": false,
     "input": [
      "N= 10000\n",
      "\n",
      "xmin = L/3\n",
      "xmax = L/2\n",
      "x = arange(xmin, xmax,.01)\n",
      "\n",
      "Y_0 =(sqrt(2/L)*sin(pi*x/L))**2\n",
      "Y_1 = sqrt(2/L)*sin(2*pi*x/L)**2\n",
      "t_0 = integrate.trapz(Y_0)\n",
      "print t_0\n",
      "t_1 = integrate.trapz(Y_1)\n",
      "print t_1"
     ],
     "language": "python",
     "metadata": {},
     "outputs": [
      {
       "output_type": "stream",
       "stream": "stdout",
       "text": [
        "0.0\n",
        "0.0\n"
       ]
      }
     ],
     "prompt_number": 198
    },
    {
     "cell_type": "code",
     "collapsed": false,
     "input": [
      "X_0 =lambda x:(sqrt(2/L)*sin(pi*x/L))**2\n",
      "X_1 =lambda x:(sqrt(2/L)*sin(2*pi*x/L))**2\n",
      "q_0 = integrate.quad(X_0,L/3,L/2)\n",
      "print q_0\n",
      "q_1 = integrate.quad(X_1,L/3,L/2)\n",
      "print q_1"
     ],
     "language": "python",
     "metadata": {},
     "outputs": [
      {
       "output_type": "stream",
       "stream": "stdout",
       "text": [
        "(0.0, 0.0)\n",
        "(0.0, 0.0)\n"
       ]
      }
     ],
     "prompt_number": 199
    },
    {
     "cell_type": "markdown",
     "metadata": {},
     "source": [
      "b)\n",
      "-"
     ]
    },
    {
     "cell_type": "code",
     "collapsed": false,
     "input": [
      "plot(x,Y_0)\n",
      "show()"
     ],
     "language": "python",
     "metadata": {},
     "outputs": [
      {
       "output_type": "display_data",
       "png": "[encoded data removed]"
      }
     ],
     "prompt_number": 200
    },
    {
     "cell_type": "markdown",
     "metadata": {},
     "source": [
      "3.\n",
      "=="
     ]
    },
    {
     "cell_type": "markdown",
     "metadata": {},
     "source": [
      "a)\n",
      "-"
     ]
    },
    {
     "cell_type": "code",
     "collapsed": false,
     "input": [
      "def H(n,x):\n",
      "    if n==0:\n",
      "        herm = 1\n",
      "    elif n==1:\n",
      "        herm = 2*x\n",
      "    elif n==2:\n",
      "        herm = 4*(x**2)-2*(n-1)\n",
      "    else:\n",
      "        H_0 =1\n",
      "        H_1= 2*x\n",
      "        H_n = 2*x*H_1-2*H_0\n",
      "        for i in range(2,n):\n",
      "            herm = 2*x*H_n-2*i*H_1\n",
      "            H_1=H_n\n",
      "            H_n=herm\n",
      "    return herm"
     ],
     "language": "python",
     "metadata": {},
     "outputs": [],
     "prompt_number": 91
    },
    {
     "cell_type": "code",
     "collapsed": false,
     "input": [
      "H(3,2)"
     ],
     "language": "python",
     "metadata": {},
     "outputs": [
      {
       "output_type": "pyout",
       "prompt_number": 92,
       "text": [
        "40"
       ]
      }
     ],
     "prompt_number": 92
    },
    {
     "cell_type": "code",
     "collapsed": false,
     "input": [
      "from math import factorial\n",
      "\n",
      "x = arange(-4,4.1,.1)\n",
      "for i in x:\n",
      "    psi_0= 1/(sqrt(2**(0)*factorial(0)*sqrt(pi)))*exp((-(i**2)/2)*H(0,i))\n",
      "    psi_1= 1/(sqrt(2**(1)*factorial(1)*sqrt(pi)))*exp((-(i**2)/2)*H(1,i))\n",
      "    psi_2= 1/(sqrt(2**(2)*factorial(2)*sqrt(pi)))*exp((-(i**2)/2)*H(2,i))\n",
      "    psi_3= 1/(sqrt(2**(3)*factorial(3)*sqrt(pi)))*exp((-(i**2)/2)*H(3,i))"
     ],
     "language": "python",
     "metadata": {},
     "outputs": [
      {
       "ename": "OverflowError",
       "evalue": "math range error",
       "output_type": "pyerr",
       "traceback": [
        "\u001b[1;31m---------------------------------------------------------------------------\u001b[0m\n\u001b[1;31mOverflowError\u001b[0m                             Traceback (most recent call last)",
        "\u001b[1;32m<ipython-input-101-cdcbe6a5f41f>\u001b[0m in \u001b[0;36m<module>\u001b[1;34m()\u001b[0m\n\u001b[0;32m      6\u001b[0m     \u001b[0mpsi_1\u001b[0m\u001b[1;33m=\u001b[0m \u001b[1;36m1\u001b[0m\u001b[1;33m/\u001b[0m\u001b[1;33m(\u001b[0m\u001b[0msqrt\u001b[0m\u001b[1;33m(\u001b[0m\u001b[1;36m2\u001b[0m\u001b[1;33m**\u001b[0m\u001b[1;33m(\u001b[0m\u001b[1;36m1\u001b[0m\u001b[1;33m)\u001b[0m\u001b[1;33m*\u001b[0m\u001b[0mfactorial\u001b[0m\u001b[1;33m(\u001b[0m\u001b[1;36m1\u001b[0m\u001b[1;33m)\u001b[0m\u001b[1;33m*\u001b[0m\u001b[0msqrt\u001b[0m\u001b[1;33m(\u001b[0m\u001b[0mpi\u001b[0m\u001b[1;33m)\u001b[0m\u001b[1;33m)\u001b[0m\u001b[1;33m)\u001b[0m\u001b[1;33m*\u001b[0m\u001b[0mexp\u001b[0m\u001b[1;33m(\u001b[0m\u001b[1;33m(\u001b[0m\u001b[1;33m-\u001b[0m\u001b[1;33m(\u001b[0m\u001b[0mi\u001b[0m\u001b[1;33m**\u001b[0m\u001b[1;36m2\u001b[0m\u001b[1;33m)\u001b[0m\u001b[1;33m/\u001b[0m\u001b[1;36m2\u001b[0m\u001b[1;33m)\u001b[0m\u001b[1;33m*\u001b[0m\u001b[0mH\u001b[0m\u001b[1;33m(\u001b[0m\u001b[1;36m1\u001b[0m\u001b[1;33m,\u001b[0m\u001b[0mi\u001b[0m\u001b[1;33m)\u001b[0m\u001b[1;33m)\u001b[0m\u001b[1;33m\u001b[0m\u001b[0m\n\u001b[0;32m      7\u001b[0m     \u001b[0mpsi_2\u001b[0m\u001b[1;33m=\u001b[0m \u001b[1;36m1\u001b[0m\u001b[1;33m/\u001b[0m\u001b[1;33m(\u001b[0m\u001b[0msqrt\u001b[0m\u001b[1;33m(\u001b[0m\u001b[1;36m2\u001b[0m\u001b[1;33m**\u001b[0m\u001b[1;33m(\u001b[0m\u001b[1;36m2\u001b[0m\u001b[1;33m)\u001b[0m\u001b[1;33m*\u001b[0m\u001b[0mfactorial\u001b[0m\u001b[1;33m(\u001b[0m\u001b[1;36m2\u001b[0m\u001b[1;33m)\u001b[0m\u001b[1;33m*\u001b[0m\u001b[0msqrt\u001b[0m\u001b[1;33m(\u001b[0m\u001b[0mpi\u001b[0m\u001b[1;33m)\u001b[0m\u001b[1;33m)\u001b[0m\u001b[1;33m)\u001b[0m\u001b[1;33m*\u001b[0m\u001b[0mexp\u001b[0m\u001b[1;33m(\u001b[0m\u001b[1;33m(\u001b[0m\u001b[1;33m-\u001b[0m\u001b[1;33m(\u001b[0m\u001b[0mi\u001b[0m\u001b[1;33m**\u001b[0m\u001b[1;36m2\u001b[0m\u001b[1;33m)\u001b[0m\u001b[1;33m/\u001b[0m\u001b[1;36m2\u001b[0m\u001b[1;33m)\u001b[0m\u001b[1;33m*\u001b[0m\u001b[0mH\u001b[0m\u001b[1;33m(\u001b[0m\u001b[1;36m2\u001b[0m\u001b[1;33m,\u001b[0m\u001b[0mi\u001b[0m\u001b[1;33m)\u001b[0m\u001b[1;33m)\u001b[0m\u001b[1;33m\u001b[0m\u001b[0m\n\u001b[1;32m----> 8\u001b[1;33m     \u001b[0mpsi_3\u001b[0m\u001b[1;33m=\u001b[0m \u001b[1;36m1\u001b[0m\u001b[1;33m/\u001b[0m\u001b[1;33m(\u001b[0m\u001b[0msqrt\u001b[0m\u001b[1;33m(\u001b[0m\u001b[1;36m2\u001b[0m\u001b[1;33m**\u001b[0m\u001b[1;33m(\u001b[0m\u001b[1;36m3\u001b[0m\u001b[1;33m)\u001b[0m\u001b[1;33m*\u001b[0m\u001b[0mfactorial\u001b[0m\u001b[1;33m(\u001b[0m\u001b[1;36m3\u001b[0m\u001b[1;33m)\u001b[0m\u001b[1;33m*\u001b[0m\u001b[0msqrt\u001b[0m\u001b[1;33m(\u001b[0m\u001b[0mpi\u001b[0m\u001b[1;33m)\u001b[0m\u001b[1;33m)\u001b[0m\u001b[1;33m)\u001b[0m\u001b[1;33m*\u001b[0m\u001b[0mexp\u001b[0m\u001b[1;33m(\u001b[0m\u001b[1;33m(\u001b[0m\u001b[1;33m-\u001b[0m\u001b[1;33m(\u001b[0m\u001b[0mi\u001b[0m\u001b[1;33m**\u001b[0m\u001b[1;36m2\u001b[0m\u001b[1;33m)\u001b[0m\u001b[1;33m/\u001b[0m\u001b[1;36m2\u001b[0m\u001b[1;33m)\u001b[0m\u001b[1;33m*\u001b[0m\u001b[0mH\u001b[0m\u001b[1;33m(\u001b[0m\u001b[1;36m3\u001b[0m\u001b[1;33m,\u001b[0m\u001b[0mi\u001b[0m\u001b[1;33m)\u001b[0m\u001b[1;33m)\u001b[0m\u001b[1;33m\u001b[0m\u001b[0m\n\u001b[0m",
        "\u001b[1;31mOverflowError\u001b[0m: math range error"
       ]
      }
     ],
     "prompt_number": 101
    },
    {
     "cell_type": "markdown",
     "metadata": {},
     "source": [
      "b)\n",
      "-"
     ]
    },
    {
     "cell_type": "code",
     "collapsed": false,
     "input": [],
     "language": "python",
     "metadata": {},
     "outputs": [],
     "prompt_number": 47
    },
    {
     "cell_type": "markdown",
     "metadata": {},
     "source": [
      "c)\n",
      "-"
     ]
    },
    {
     "cell_type": "code",
     "collapsed": false,
     "input": [],
     "language": "python",
     "metadata": {},
     "outputs": [],
     "prompt_number": 47
    },
    {
     "cell_type": "markdown",
     "metadata": {},
     "source": [
      "4.\n",
      "="
     ]
    },
    {
     "cell_type": "markdown",
     "metadata": {},
     "source": [
      "a)\n",
      "-"
     ]
    },
    {
     "cell_type": "code",
     "collapsed": false,
     "input": [
      "f = lambda x: 4*sqrt(1-x**2)"
     ],
     "language": "python",
     "metadata": {},
     "outputs": [],
     "prompt_number": 24
    },
    {
     "cell_type": "code",
     "collapsed": false,
     "input": [
      "x = arange(0.,1.001,0.001)"
     ],
     "language": "python",
     "metadata": {},
     "outputs": [],
     "prompt_number": 35
    },
    {
     "cell_type": "code",
     "collapsed": false,
     "input": [
      "myplot = plot(x,f(x),lw=2)\n",
      "title(\"$f(x)=4\\sqrt{1-x^2}$\", fontsize = 25)\n",
      "ylabel(r'$y$', fontsize=20)\n",
      "xlabel(r'$x$', fontsize=20)\n",
      "xlim(0.,1.1)\n",
      "\n",
      "show()"
     ],
     "language": "python",
     "metadata": {},
     "outputs": [
      {
       "output_type": "display_data",
       "png": "[encoded data removed]"
      }
     ],
     "prompt_number": 36
    },
    {
     "cell_type": "code",
     "collapsed": false,
     "input": [
      "xmin = 0\n",
      "xmax = 1\n",
      "\n",
      "subx = x[logical_and((x > xmin),(x < xmax))]\n",
      "ymax = max(f(subx))*1.05\n",
      "ymin = 0.\n",
      "\n",
      "myplot = plot(x,f(x),lw=3)\n",
      "xlim(0.,1.1)\n",
      "\n",
      "plot([xmin, xmin], [ymin,ymax], color = 'k', linestyle='--')\n",
      "plot([xmax, xmax], [ymin,ymax], color = 'k', linestyle='--')\n",
      "plot([xmin, xmax], [ymax,ymax], color = 'k', linestyle='--')\n",
      "show()"
     ],
     "language": "python",
     "metadata": {},
     "outputs": [
      {
       "output_type": "display_data",
       "png": "[encoded data removed]"
      }
     ],
     "prompt_number": 37
    },
    {
     "cell_type": "code",
     "collapsed": false,
     "input": [
      "N = 100000\n",
      "samples_x = xmin + (xmax-xmin)*random_sample(N);\n",
      "samples_y = ymin + (ymax-ymin)*random_sample(N);\n",
      "\n",
      "myplot = plot(x,f(x),lw=3)\n",
      "xlim(0.,1.1)\n",
      "\n",
      "plot(samples_x[1:200],samples_y[1:200],'.')\n",
      "\n",
      "plot([xmin, xmin], [ymin,ymax], color = 'k', linestyle='--')\n",
      "plot([xmax, xmax], [ymin,ymax], color = 'k', linestyle='--')\n",
      "plot([xmin, xmax], [ymax,ymax], color = 'k', linestyle='--')\n",
      "show()"
     ],
     "language": "python",
     "metadata": {},
     "outputs": [
      {
       "output_type": "display_data",
       "png": "[encoded data removed]"
      }
     ],
     "prompt_number": 43
    },
    {
     "cell_type": "code",
     "collapsed": false,
     "input": [
      "newmask = (samples_y < f(samples_x))\n",
      "sum(newmask)"
     ],
     "language": "python",
     "metadata": {},
     "outputs": [
      {
       "output_type": "pyout",
       "prompt_number": 44,
       "text": [
        "74774"
       ]
      }
     ],
     "prompt_number": 44
    },
    {
     "cell_type": "code",
     "collapsed": false,
     "input": [
      "myplot = plot(x,f(x),lw=3)\n",
      "xlim(0.,1.1)\n",
      "\n",
      "plot(samples_x[1:200],samples_y[1:200],'.')\n",
      "\n",
      "plot(samples_x[newmask[:200]],samples_y[newmask[:200]],'r.')\n",
      "\n",
      "plot([xmin, xmin], [ymin,ymax], color = 'k', linestyle='--')\n",
      "plot([xmax, xmax], [ymin,ymax], color = 'k', linestyle='--')\n",
      "plot([xmin, xmax], [ymax,ymax], color = 'k', linestyle='--')\n",
      "show()"
     ],
     "language": "python",
     "metadata": {},
     "outputs": [
      {
       "output_type": "display_data",
       "png": "[encoded data removed]"
      }
     ],
     "prompt_number": 45
    },
    {
     "cell_type": "code",
     "collapsed": false,
     "input": [
      "I = (xmax-xmin)*(ymax-ymin)*sum(newmask)/newmask.size\n",
      "print I"
     ],
     "language": "python",
     "metadata": {},
     "outputs": [
      {
       "output_type": "stream",
       "stream": "stdout",
       "text": [
        "3.14050642975\n"
       ]
      }
     ],
     "prompt_number": 46
    },
    {
     "cell_type": "markdown",
     "metadata": {},
     "source": [
      "b)\n",
      "-"
     ]
    },
    {
     "cell_type": "code",
     "collapsed": false,
     "input": [
      "Iexact = pi\n",
      "Ierr = 100*(Iexact-I)/(Iexact)\n",
      "print \"Error on I =\", Ierr, \"%\""
     ],
     "language": "python",
     "metadata": {},
     "outputs": [
      {
       "output_type": "stream",
       "stream": "stdout",
       "text": [
        "Error on I = 0.0345755788213 %\n"
       ]
      }
     ],
     "prompt_number": 47
    },
    {
     "cell_type": "markdown",
     "metadata": {},
     "source": [
      "c)\n",
      "-"
     ]
    },
    {
     "cell_type": "code",
     "collapsed": false,
     "input": [
      "Nerr = []\n",
      "Err= []\n",
      "for i in range(100,100100,100):\n",
      "    N=i\n",
      "    Nerr.append(i)\n",
      "    x = arange(0.,1.001,0.001)\n",
      "    subx = x[logical_and((x > xmin),(x < xmax))]\n",
      "    ymax = max(f(subx))*1.05\n",
      "    ymin = 0.\n",
      "    samples_x = xmin + (xmax-xmin)*random_sample(N);\n",
      "    samples_y = ymin + (ymax-ymin)*random_sample(N);\n",
      "    newmask = (samples_y < f(samples_x))\n",
      "    I = (xmax-xmin)*(ymax-ymin)*sum(newmask)/newmask.size\n",
      "    percent_error = abs(100*(Iexact-I)/(Iexact))\n",
      "    Err.append(percent_error)\n",
      "loglog(Nerr,Err, lw=2)\n",
      "show()"
     ],
     "language": "python",
     "metadata": {},
     "outputs": [
      {
       "output_type": "display_data",
       "png": "[encoded data removed]"
      }
     ],
     "prompt_number": 54
    },
    {
     "cell_type": "markdown",
     "metadata": {},
     "source": [
      "d)\n",
      "-"
     ]
    },
    {
     "cell_type": "code",
     "collapsed": false,
     "input": [
      "f = lambda x: 4*sqrt(1-x**2)\n",
      "N = 1e8\n",
      "a = 0\n",
      "b = 1\n",
      "x = arange(0,1.001,0.001) \n",
      "x_i = (b-a)*random_sample(N)+a\n",
      "I_N = (b-a)*sum(f(x_i))/N\n",
      "print I_N"
     ],
     "language": "python",
     "metadata": {},
     "outputs": [
      {
       "output_type": "stream",
       "stream": "stdout",
       "text": [
        "3.14155083841\n"
       ]
      }
     ],
     "prompt_number": 59
    },
    {
     "cell_type": "code",
     "collapsed": false,
     "input": [
      "err = 100*(Iexact-I_N)/Iexact\n",
      "print \"Error for Sample Mean Method=\", err, \"%\""
     ],
     "language": "python",
     "metadata": {},
     "outputs": [
      {
       "output_type": "stream",
       "stream": "stdout",
       "text": [
        "Error for Sample Mean Method= 0.0013310185988 %\n"
       ]
      }
     ],
     "prompt_number": 60
    },
    {
     "cell_type": "markdown",
     "metadata": {},
     "source": [
      "5.\n",
      "="
     ]
    },
    {
     "cell_type": "markdown",
     "metadata": {},
     "source": [
      "a)\n",
      "-"
     ]
    },
    {
     "cell_type": "code",
     "collapsed": false,
     "input": [
      "l = 0.2\n",
      "\n",
      "w = 0.2\n",
      "\n",
      "h = 1.0\n",
      "\n",
      "p = lambda z,y,x: 100*((y + 0.1)+z**2)\n",
      "p_x = lambda z,y,x: x*100*((y + 0.1)+z**2)\n",
      "p_y = lambda z,y,x: y*100*((y + 0.1)+z**2)\n",
      "p_z = lambda z,y,x: z*100*((y + 0.1)+z**2)\n",
      "pi_x = lambda z,y,x: (y**2+z**2)*100*((y + 0.1)+z**2)\n",
      "pi_y = lambda z,y,x: (x**2+z**2)*100*((y + 0.1)+z**2)\n",
      "pi_z = lambda z,y,x: (y**2+x**2)*100*((y + 0.1)+z**2)"
     ],
     "language": "python",
     "metadata": {},
     "outputs": [],
     "prompt_number": 144
    },
    {
     "cell_type": "code",
     "collapsed": false,
     "input": [
      "M = integrate.tplquad(p,-.1,.1,lambda x:-.1,lambda x:.1,lambda x,y:-.5,lambda x,y:.5)\n",
      "print M"
     ],
     "language": "python",
     "metadata": {},
     "outputs": [
      {
       "output_type": "stream",
       "stream": "stdout",
       "text": [
        "(0.7333333333333334, 8.141635513917816e-15)\n"
       ]
      }
     ],
     "prompt_number": 132
    },
    {
     "cell_type": "code",
     "collapsed": false,
     "input": [
      "M_x = integrate.tplquad(p_x,-.1,.1,lambda x:-.1,lambda x:.1,lambda x,y:-.5,lambda x,y:.5)\n",
      "print M_x\n",
      "M_y = integrate.tplquad(p_y,-.1,.1,lambda x:-.1,lambda x:.1,lambda x,y:-.5,lambda x,y:.5)\n",
      "print M_y\n",
      "M_z = integrate.tplquad(p_z,-.1,.1,lambda x:-.1,lambda x:.1,lambda x,y:-.5,lambda x,y:.5)\n",
      "print M_z"
     ],
     "language": "python",
     "metadata": {},
     "outputs": [
      {
       "output_type": "stream",
       "stream": "stdout",
       "text": [
        "(0.0, 4.0556413485563517e-16)\n",
        "(0.013333333333333336, 1.4802973661668756e-16)\n",
        "(0.0, 0.0)\n"
       ]
      }
     ],
     "prompt_number": 145
    },
    {
     "cell_type": "code",
     "collapsed": false,
     "input": [
      "r_cm = [(M_x)[0]/(M)[0], (M_y)[0]/(M)[0], (M_z)[0]/(M)[0]]\n",
      "print r_cm"
     ],
     "language": "python",
     "metadata": {},
     "outputs": [
      {
       "output_type": "stream",
       "stream": "stdout",
       "text": [
        "[0.0, 0.018181818181818184, 0.0]\n"
       ]
      }
     ],
     "prompt_number": 143
    },
    {
     "cell_type": "code",
     "collapsed": false,
     "input": [
      "I_x =integrate.tplquad(pi_x,-.1,.1,lambda x:-.1,lambda x:.1,lambda x,y:-.5,lambda x,y:.5)\n",
      "print I_x\n",
      "I_y =integrate.tplquad(pi_y,-.1,.1,lambda x:-.1,lambda x:.1,lambda x,y:-.5,lambda x,y:.5)\n",
      "print I_y\n",
      "I_z = integrate.tplquad(pi_z,-.1,.1,lambda x:-.1,lambda x:.1,lambda x,y:-.5,lambda x,y:.5)\n",
      "print I_z"
     ],
     "language": "python",
     "metadata": {},
     "outputs": [
      {
       "output_type": "stream",
       "stream": "stdout",
       "text": [
        "(0.08577777777777779, 9.5232463890069e-16)\n",
        "(0.08577777777777779, 9.5232463890069e-16)\n",
        "(0.0048888888888888905, 5.427757009278545e-17)\n"
       ]
      }
     ],
     "prompt_number": 146
    },
    {
     "cell_type": "code",
     "collapsed": false,
     "input": [],
     "language": "python",
     "metadata": {},
     "outputs": []
    }
   ],
   "metadata": {}
  }
 ]
}