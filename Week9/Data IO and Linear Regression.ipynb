{
 "metadata": {
  "name": "Data IO and Linear Regression"
 },
 "nbformat": 3,
 "nbformat_minor": 0,
 "worksheets": [
  {
   "cells": [
    {
     "cell_type": "markdown",
     "metadata": {},
     "source": [
      "Data I/O\n",
      "-"
     ]
    },
    {
     "cell_type": "code",
     "collapsed": false,
     "input": [
      "DataIn = loadtxt(\"input.dat\")\n",
      "print DataIn.shape\n",
      "print DataIn"
     ],
     "language": "python",
     "metadata": {},
     "outputs": [
      {
       "output_type": "stream",
       "stream": "stdout",
       "text": [
        "(5, 3)\n",
        "[[ 0.   1.1  0.1]\n",
        " [ 2.   1.9  0.2]\n",
        " [ 4.   3.2  0.1]\n",
        " [ 6.   4.   0.3]\n",
        " [ 8.   5.9  0.3]]\n"
       ]
      }
     ],
     "prompt_number": 1
    },
    {
     "cell_type": "code",
     "collapsed": false,
     "input": [
      "print DataIn[:,2]"
     ],
     "language": "python",
     "metadata": {},
     "outputs": [
      {
       "output_type": "stream",
       "stream": "stdout",
       "text": [
        "[ 0.1  0.2  0.1  0.3  0.3]\n"
       ]
      }
     ],
     "prompt_number": 2
    },
    {
     "cell_type": "code",
     "collapsed": false,
     "input": [
      "x, y, yerr = loadtxt('input.dat', unpack=True)\n",
      "print x\n",
      "print y\n",
      "print yerr"
     ],
     "language": "python",
     "metadata": {},
     "outputs": [
      {
       "output_type": "stream",
       "stream": "stdout",
       "text": [
        "[ 0.  2.  4.  6.  8.]\n",
        "[ 1.1  1.9  3.2  4.   5.9]\n",
        "[ 0.1  0.2  0.1  0.3  0.3]\n"
       ]
      }
     ],
     "prompt_number": 5
    },
    {
     "cell_type": "code",
     "collapsed": false,
     "input": [
      "x, y = loadtxt('input.dat', unpack=True, usecols=[0,1])\n",
      "print x\n",
      "print y"
     ],
     "language": "python",
     "metadata": {},
     "outputs": [
      {
       "output_type": "stream",
       "stream": "stdout",
       "text": [
        "[ 0.  2.  4.  6.  8.]\n",
        "[ 1.1  1.9  3.2  4.   5.9]\n"
       ]
      }
     ],
     "prompt_number": 6
    },
    {
     "cell_type": "markdown",
     "metadata": {},
     "source": [
      "csv files.\n",
      "-"
     ]
    },
    {
     "cell_type": "code",
     "collapsed": false,
     "input": [
      "x, y = loadtxt(\"input.csv\", unpack=True, delimiter=\",\", usecols=[0,1])\n",
      "print x,y"
     ],
     "language": "python",
     "metadata": {},
     "outputs": [
      {
       "output_type": "stream",
       "stream": "stdout",
       "text": [
        "[ 0.  2.  4.  6.  8.] [ 1.1  1.9  3.2  4.   5.9]\n"
       ]
      }
     ],
     "prompt_number": 7
    },
    {
     "cell_type": "markdown",
     "metadata": {},
     "source": [
      "Writing data to a file.\n",
      "-"
     ]
    },
    {
     "cell_type": "code",
     "collapsed": false,
     "input": [
      "t = array([0,1,2,3,4,5,6,7,8,9])\n",
      "v = array([0.137,0.456,0.591,0.713,0.859,0.926,1.139,1.327,1.512,1.875])\n",
      "p = zeros(len(v), float)\n",
      "for n in range(10):\n",
      "    p[n] = 0.15 + v[n]/10.0\n",
      "print p"
     ],
     "language": "python",
     "metadata": {},
     "outputs": [
      {
       "output_type": "stream",
       "stream": "stdout",
       "text": [
        "[ 0.1637  0.1956  0.2091  0.2213  0.2359  0.2426  0.2639  0.2827  0.3012\n",
        "  0.3375]\n"
       ]
      }
     ],
     "prompt_number": 9
    },
    {
     "cell_type": "code",
     "collapsed": false,
     "input": [
      "savetxt('output.dat',(t,p))"
     ],
     "language": "python",
     "metadata": {},
     "outputs": [],
     "prompt_number": 10
    },
    {
     "cell_type": "code",
     "collapsed": false,
     "input": [
      "DataOut = column_stack((t,p))\n",
      "savetxt('output.dat',DataOut)"
     ],
     "language": "python",
     "metadata": {},
     "outputs": [],
     "prompt_number": 11
    },
    {
     "cell_type": "code",
     "collapsed": false,
     "input": [
      "fmt = '%(width).(precision)(specifier)'"
     ],
     "language": "python",
     "metadata": {},
     "outputs": [],
     "prompt_number": 12
    },
    {
     "cell_type": "code",
     "collapsed": false,
     "input": [
      "savetxt('output.dat',DataOut, fmt=('%3i', '%4.3f'))"
     ],
     "language": "python",
     "metadata": {},
     "outputs": [],
     "prompt_number": 13
    },
    {
     "cell_type": "code",
     "collapsed": false,
     "input": [
      "f = open('output.dat','w')\n",
      "f.write(\"#This is a file with the information for time and power respectively\\n\\n\")\n",
      "savetxt(f,DataOut,fmt=('%3i', '%4.3f'))\n",
      "f.close()"
     ],
     "language": "python",
     "metadata": {},
     "outputs": [],
     "prompt_number": 14
    },
    {
     "cell_type": "markdown",
     "metadata": {},
     "source": [
      "Exercise 1\n",
      "="
     ]
    },
    {
     "cell_type": "code",
     "collapsed": false,
     "input": [
      "t = array([1,2,3,4,5,6,7,8,9,10])\n",
      "x = array([7.75,7.33,6.89,6.45,5.96,5.55,5.10,4.49,3.93,3.58])\n",
      "dx = array([0.02,0.03,0.03,0.04,0.05,0.06,0.08,0.11,0.14,0.17])\n",
      "\n",
      "savetxt('linearData.dat',(t,x,dx))\n",
      "savetxt('linearData.csv',(t,x,dx), delimiter=\",\")"
     ],
     "language": "python",
     "metadata": {},
     "outputs": [],
     "prompt_number": 35
    },
    {
     "cell_type": "code",
     "collapsed": false,
     "input": [
      "data = column_stack((t,x,dx))\n",
      "savetxt('linearData.dat',data)\n",
      "savetxt('linearData.csv', data,delimiter=\",\")"
     ],
     "language": "python",
     "metadata": {},
     "outputs": [],
     "prompt_number": 36
    },
    {
     "cell_type": "code",
     "collapsed": false,
     "input": [
      "savetxt('linearData.dat',data, fmt=('%3i', '%4.3f','%4.3f'))\n",
      "savetxt('linearData.csv',data, delimiter=\",\", fmt=('%3i', '%4.3f','%4.3f'))"
     ],
     "language": "python",
     "metadata": {},
     "outputs": [],
     "prompt_number": 37
    },
    {
     "cell_type": "code",
     "collapsed": false,
     "input": [
      "E1 = open('linearData.dat','w')\n",
      "E1.write(\"#This is the .dat file for the Exercise 1 array\\n\\n\")\n",
      "savetxt(E1,data,fmt=('%3i', '%4.3f',\"%4.3f\"))\n",
      "E1.close()"
     ],
     "language": "python",
     "metadata": {},
     "outputs": [],
     "prompt_number": 38
    },
    {
     "cell_type": "code",
     "collapsed": false,
     "input": [
      "E1 = open('linearData.csv','w')\n",
      "E1.write(\"#This is the .csv file for the Exercise 1 array\\n\\n\")\n",
      "savetxt(E1,data,delimiter=\",\",fmt=('%3i', '%4.3f',\"%4.3f\"))\n",
      "E1.close()"
     ],
     "language": "python",
     "metadata": {},
     "outputs": [],
     "prompt_number": 42
    },
    {
     "cell_type": "code",
     "collapsed": false,
     "input": [
      "a = loadtxt(\"linearData.dat\")\n",
      "print a"
     ],
     "language": "python",
     "metadata": {},
     "outputs": [
      {
       "output_type": "stream",
       "stream": "stdout",
       "text": [
        "[[  1.     7.75   0.02]\n",
        " [  2.     7.33   0.03]\n",
        " [  3.     6.89   0.03]\n",
        " [  4.     6.45   0.04]\n",
        " [  5.     5.96   0.05]\n",
        " [  6.     5.55   0.06]\n",
        " [  7.     5.1    0.08]\n",
        " [  8.     4.49   0.11]\n",
        " [  9.     3.93   0.14]\n",
        " [ 10.     3.58   0.17]]\n"
       ]
      }
     ],
     "prompt_number": 43
    },
    {
     "cell_type": "code",
     "collapsed": false,
     "input": [
      "b = loadtxt(\"linearData.csv\",delimiter=\",\")\n",
      "print b"
     ],
     "language": "python",
     "metadata": {},
     "outputs": [
      {
       "output_type": "stream",
       "stream": "stdout",
       "text": [
        "[[  1.     7.75   0.02]\n",
        " [  2.     7.33   0.03]\n",
        " [  3.     6.89   0.03]\n",
        " [  4.     6.45   0.04]\n",
        " [  5.     5.96   0.05]\n",
        " [  6.     5.55   0.06]\n",
        " [  7.     5.1    0.08]\n",
        " [  8.     4.49   0.11]\n",
        " [  9.     3.93   0.14]\n",
        " [ 10.     3.58   0.17]]\n"
       ]
      }
     ],
     "prompt_number": 45
    },
    {
     "cell_type": "markdown",
     "metadata": {},
     "source": [
      "Exercise 2\n",
      "="
     ]
    },
    {
     "cell_type": "markdown",
     "metadata": {},
     "source": [
      "a)\n",
      "-"
     ]
    },
    {
     "cell_type": "code",
     "collapsed": false,
     "input": [
      "def LinearLeastSquaresFit(x,y):\n",
      "    \"\"\"Take in arrays representing (x,y) values for a set of linearly varying data and\n",
      "    perform a linear least squares regression. Return the resulting slope and intercept\n",
      "    parameters of the best fit line with thier uncertainties.\"\"\"\n",
      "    \n",
      "    xavg = zeros(len(x),float) #<x> average\n",
      "    xavg = sum(x)/len(x)\n",
      "    \n",
      "    yavg = zeros(len(y),float) #<y> average\n",
      "    yavg = sum(y)/len(y)\n",
      "    \n",
      "    x2avg = zeros(len(x),float) #<x^2> average\n",
      "    x2avg = sum(x**2)/len(x)\n",
      "    \n",
      "    xyavg = zeros(len(x),float) #<xy> average\n",
      "    xyavg = sum(x*y)/len(x)\n",
      "    \n",
      "    m = (xyavg - xavg*yavg)/(x2avg-xavg**2) #slope\n",
      "    b = (x2avg*yavg-xavg*xyavg)/(x2avg-xavg**2) #intercept\n",
      "    \n",
      "    d = zeros(len(x),float)\n",
      "    for n in range(len(x)):\n",
      "        d[n] = y[n] -(m*x[n]+b)\n",
      "    \n",
      "    x2 = zeros(len(d),float)\n",
      "    for n in range(len(x)):\n",
      "        x2[n] = sum(d[n]**2)\n",
      "    \n",
      "    \n",
      "    d2avg = zeros(len(d),float) #<d^2> average\n",
      "    d2avg = sum(x2)/float(len(x))\n",
      "    \n",
      "    Dm = sqrt((1/float(len(x)-2))*(d2avg/(x2avg-xavg**2))) #slope error\n",
      "    Db = sqrt((1/float(len(x)-2))*((d2avg*x2avg)/(x2avg-xavg**2))) # intercept error\n",
      "    print \"slope=\", m, \"Slope Error=\", Dm,\"Intercept=\", b, \"Intercept Error=\", Db\n",
      "    "
     ],
     "language": "python",
     "metadata": {},
     "outputs": [],
     "prompt_number": 51
    },
    {
     "cell_type": "markdown",
     "metadata": {},
     "source": [
      "b)\n",
      "-"
     ]
    },
    {
     "cell_type": "code",
     "collapsed": false,
     "input": [
      "t, x = loadtxt('linearData.dat', unpack=True, usecols=[0,1])\n",
      "print t\n",
      "print x"
     ],
     "language": "python",
     "metadata": {},
     "outputs": [
      {
       "output_type": "stream",
       "stream": "stdout",
       "text": [
        "[  1.   2.   3.   4.   5.   6.   7.   8.   9.  10.]\n",
        "[ 7.75  7.33  6.89  6.45  5.96  5.55  5.1   4.49  3.93  3.58]\n"
       ]
      }
     ],
     "prompt_number": 52
    },
    {
     "cell_type": "code",
     "collapsed": false,
     "input": [
      "LinearLeastSquaresFit(t,x)"
     ],
     "language": "python",
     "metadata": {},
     "outputs": [
      {
       "output_type": "stream",
       "stream": "stdout",
       "text": [
        "slope= -0.471454545455 Slope Error= 0.00799483304215 Intercept= 8.296 Intercept Error= 0.0496066344537\n"
       ]
      }
     ],
     "prompt_number": 53
    },
    {
     "cell_type": "markdown",
     "metadata": {},
     "source": [
      "c)\n",
      "-"
     ]
    },
    {
     "cell_type": "code",
     "collapsed": false,
     "input": [
      "m = -0.471454545455\n",
      "dm  = 0.00799483304215\n",
      "b = 8.296\n",
      "db = 0.0496066344537\n",
      "\n",
      "plot(m*t+b, label = \"y = %.4f x +%.4f\" % (m,b))\n",
      "plot((m+dm)*t+(b+db), 'r:+', label =\"plus standard deviation\" )\n",
      "plot((m-dm)*t+(b-db), 'r--', label = \"minus standard deviation\")\n",
      "legend(loc=0)\n",
      "show()"
     ],
     "language": "python",
     "metadata": {},
     "outputs": [
      {
       "output_type": "display_data",
       "png": "[encoded data removed]"
      }
     ],
     "prompt_number": 46
    },
    {
     "cell_type": "markdown",
     "metadata": {},
     "source": [
      "Exercise 3\n",
      "="
     ]
    },
    {
     "cell_type": "markdown",
     "metadata": {},
     "source": [
      "a)\n",
      "-"
     ]
    },
    {
     "cell_type": "code",
     "collapsed": false,
     "input": [
      "def WeightedLinearLeastSquaresFit(x,y,dy):\n",
      "    \n",
      "    w = 1/(dy**2)\n",
      "    \n",
      "  \n",
      "    \n",
      "    \n",
      "    m = (sum(w)*sum(w*x*y)-sum(w*x)*sum(w*y))/(sum(w)*sum(w*x**2)-(sum(w*x))**2)\n",
      "    b = (sum(w*x**2)*sum(w*y)-sum(w*x)*sum(w*x*y))/(sum(w)*sum(w*x**2)-(sum(w*x))**2)\n",
      "    dm = sqrt(float(sum(w))/float(sum(w)*sum(w*x**2)-(sum(w*x))**2))\n",
      "    db = sqrt(float(sum(w*x**2))/float(sum(w)*sum(w*x**2)-(sum(w*x))**2))\n",
      "    \n",
      "    print \"slope=\", m, \"Slope Error=\", dm,\"Intercept=\", b, \"Intercept Error=\", db\n",
      "    return \"slope=\", m, \"Slope Error=\", dm,\"Intercept=\", b, \"Intercept Error=\", db"
     ],
     "language": "python",
     "metadata": {},
     "outputs": [],
     "prompt_number": 83
    },
    {
     "cell_type": "markdown",
     "metadata": {},
     "source": [
      "b)\n",
      "-"
     ]
    },
    {
     "cell_type": "code",
     "collapsed": false,
     "input": [
      "x, y, dy = loadtxt('linearData.dat', unpack=True, usecols=[0,1,2])\n",
      "print x\n",
      "print y\n",
      "print dy"
     ],
     "language": "python",
     "metadata": {},
     "outputs": [
      {
       "output_type": "stream",
       "stream": "stdout",
       "text": [
        "[  1.   2.   3.   4.   5.   6.   7.   8.   9.  10.]\n",
        "[ 7.75  7.33  6.89  6.45  5.96  5.55  5.1   4.49  3.93  3.58]\n",
        "[ 0.02  0.03  0.03  0.04  0.05  0.06  0.08  0.11  0.14  0.17]\n"
       ]
      }
     ],
     "prompt_number": 84
    },
    {
     "cell_type": "code",
     "collapsed": false,
     "input": [
      "WeightedLinearLeastSquaresFit(x,y,dy)"
     ],
     "language": "python",
     "metadata": {},
     "outputs": [
      {
       "output_type": "stream",
       "stream": "stdout",
       "text": [
        "slope= -0.451023983487 Slope Error= 0.00657587085879 Intercept= 8.2200718179 Intercept Error= 0.0214377652083\n"
       ]
      },
      {
       "output_type": "pyout",
       "prompt_number": 85,
       "text": [
        "('slope=',\n",
        " -0.45102398348675593,\n",
        " 'Slope Error=',\n",
        " 0.0065758708587924392,\n",
        " 'Intercept=',\n",
        " 8.220071817895505,\n",
        " 'Intercept Error=',\n",
        " 0.021437765208320705)"
       ]
      }
     ],
     "prompt_number": 85
    },
    {
     "cell_type": "markdown",
     "metadata": {},
     "source": [
      "c)\n",
      "-"
     ]
    },
    {
     "cell_type": "code",
     "collapsed": false,
     "input": [
      "x = arange(0,10.5,.5)\n",
      "g = ((m+dm)*x+(b+db))-(m*x+b) \n",
      "e = (m*x+b) -((m-dm)*x+(b-db))\n",
      "\n",
      "errorbar(x,m*x+b,yerr=[e,g], color='k',ecolor='r')\n",
      "\n",
      "show()"
     ],
     "language": "python",
     "metadata": {},
     "outputs": [
      {
       "output_type": "display_data",
       "png": "[encoded data removed]"
      }
     ],
     "prompt_number": 117
    },
    {
     "cell_type": "code",
     "collapsed": false,
     "input": [],
     "language": "python",
     "metadata": {},
     "outputs": []
    }
   ],
   "metadata": {}
  }
 ]
}