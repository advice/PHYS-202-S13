{
 "metadata": {
  "name": "InterpAndDi\u000bEx3"
 },
 "nbformat": 3,
 "nbformat_minor": 0,
 "worksheets": [
  {
   "cells": [
    {
     "cell_type": "markdown",
     "metadata": {},
     "source": [
      "Question 1\n",
      "="
     ]
    },
    {
     "cell_type": "code",
     "collapsed": false,
     "input": [
      "from Electrostatics1 import *\n",
      "x,y = meshgrid(arange(-5,5,0.5),arange(-5,5,0.5))\n",
      "Vdipole = dipolePotential(x,y,1e-9,2.);\n",
      "contour(x,y,Vdipole,cmap=cm.seismic)\n",
      "show()"
     ],
     "language": "python",
     "metadata": {},
     "outputs": [
      {
       "output_type": "display_data",
       "png": "[encoded data removed]"
      }
     ],
     "prompt_number": 6
    },
    {
     "cell_type": "markdown",
     "metadata": {},
     "source": [
      "a)\n",
      "-"
     ]
    },
    {
     "cell_type": "code",
     "collapsed": false,
     "input": [
      "mask = (y == 0)\n",
      "contour(x,y,Vdipole, cmap=cm.seismic)\n",
      "show()"
     ],
     "language": "python",
     "metadata": {},
     "outputs": [
      {
       "output_type": "display_data",
       "png": "[encoded data removed]"
      }
     ],
     "prompt_number": 40
    },
    {
     "cell_type": "markdown",
     "metadata": {},
     "source": [
      "b)\n",
      "-"
     ]
    },
    {
     "cell_type": "code",
     "collapsed": false,
     "input": [],
     "language": "python",
     "metadata": {},
     "outputs": [],
     "prompt_number": 40
    },
    {
     "cell_type": "markdown",
     "metadata": {},
     "source": [
      "Question 2\n",
      "=="
     ]
    },
    {
     "cell_type": "markdown",
     "metadata": {},
     "source": [
      "a)\n",
      "-"
     ]
    },
    {
     "cell_type": "code",
     "collapsed": false,
     "input": [
      "Temps = arange[10,40,1]\n",
      "Resists = [3.239*10**6,3.118*10**6,3.004*10**6,2.897*10**6,2.795*10**6,2.700*10**6,2.610*10**6,2.526*10**6,2.446*10**6,2.371*10**6,2.3*10**6,2.233*10**6,2.169*10**6,2.11*10**6,2.053*10**6,2.*10**6,1.95*10**6,1.902*10**6,1.857*10**6,1.815*10**6,1.774*10**6,1.736*10**6,1.7*10**6,1.666*10**6,1.634*10**6,1.603*10**6,1.574*10**6,1.547*10**6,1.521*10**6,1.496*10**6]\n"
     ],
     "language": "python",
     "metadata": {},
     "outputs": [
      {
       "output_type": "stream",
       "stream": "stdout",
       "text": [
        "[array([10, 11, 12, 13, 14, 15, 16, 17, 18, 19, 20, 21, 22, 23, 24, 25, 26,\n",
        "       27, 28, 29, 30, 31, 32, 33, 34, 35, 36, 37, 38, 39]), [3239000.0, 3118000.0, 3004000.0, 2897000.0, 2795000.0, 2700000.0, 2610000.0, 2526000.0, 2446000.0, 2371000.0, 2300000.0, 2233000.0, 2169000.0, 2110000.0, 2053000.0, 2000000.0, 1950000.0, 1902000.0, 1857000.0, 1815000.0, 1774000.0, 1736000.0, 1700000.0, 1666000.0, 1634000.0, 1603000.0, 1574000.0, 1547000.0, 1521000.0, 1496000.0]]\n"
       ]
      }
     ],
     "prompt_number": 33
    },
    {
     "cell_type": "code",
     "collapsed": false,
     "input": [
      "def Temp(Resistance):\n",
      "    x=0\n",
      "    while x<30:\n",
      "        \n",
      "        \n",
      "        x+=1\n",
      "        \n",
      "        "
     ],
     "language": "python",
     "metadata": {},
     "outputs": [],
     "prompt_number": 22
    },
    {
     "cell_type": "markdown",
     "metadata": {},
     "source": [
      "b)\n",
      "-"
     ]
    },
    {
     "cell_type": "code",
     "collapsed": false,
     "input": [],
     "language": "python",
     "metadata": {},
     "outputs": [
      {
       "output_type": "pyout",
       "prompt_number": 39,
       "text": [
        "10"
       ]
      }
     ],
     "prompt_number": 39
    },
    {
     "cell_type": "markdown",
     "metadata": {},
     "source": [
      "c)\n",
      "-"
     ]
    },
    {
     "cell_type": "code",
     "collapsed": false,
     "input": [],
     "language": "python",
     "metadata": {},
     "outputs": []
    },
    {
     "cell_type": "markdown",
     "metadata": {},
     "source": [
      "Question 3\n",
      "=="
     ]
    },
    {
     "cell_type": "markdown",
     "metadata": {},
     "source": [
      "a)\n",
      "-"
     ]
    },
    {
     "cell_type": "code",
     "collapsed": false,
     "input": [
      "def finiteDifference(x,y):\n",
      "    dy = diff(y)\n",
      "    dx = diff(x)\n",
      "    dydx = dy/dx\n",
      "    dydx1 = zeros(y.shape,float)\n",
      "    dydx1[0:-1]= diff(y)/diff(x)\n",
      "    dydx1[-1] = (y[-1]-y[-2])/(x[-1]-x[-2])\n",
      "    return dydx1"
     ],
     "language": "python",
     "metadata": {},
     "outputs": [],
     "prompt_number": 95
    },
    {
     "cell_type": "markdown",
     "metadata": {},
     "source": [
      "b)\n",
      "-"
     ]
    },
    {
     "cell_type": "code",
     "collapsed": false,
     "input": [
      "x= arange(0.,10.01,0.1)\n",
      "y=x**5\n",
      "print finiteDifference(x,y)"
     ],
     "language": "python",
     "metadata": {},
     "outputs": [
      {
       "output_type": "stream",
       "stream": "stdout",
       "text": [
        "[  1.00000000e-04   3.10000000e-03   2.11000000e-02   7.81000000e-02\n",
        "   2.10100000e-01   4.65100000e-01   9.03100000e-01   1.59610000e+00\n",
        "   2.62810000e+00   4.09510000e+00   6.10510000e+00   8.77810000e+00\n",
        "   1.22461000e+01   1.66531000e+01   2.21551000e+01   2.89201000e+01\n",
        "   3.71281000e+01   4.69711000e+01   5.86531000e+01   7.23901000e+01\n",
        "   8.84101000e+01   1.06953100e+02   1.28271100e+02   1.52628100e+02\n",
        "   1.80300100e+02   2.11575100e+02   2.46753100e+02   2.86146100e+02\n",
        "   3.30078100e+02   3.78885100e+02   4.32915100e+02   4.92528100e+02\n",
        "   5.58096100e+02   6.30003100e+02   7.08645100e+02   7.94430100e+02\n",
        "   8.87778100e+02   9.89121100e+02   1.09890310e+03   1.21758010e+03\n",
        "   1.34562010e+03   1.48350310e+03   1.63172110e+03   1.79077810e+03\n",
        "   1.96119010e+03   2.14348510e+03   2.33820310e+03   2.54589610e+03\n",
        "   2.76712810e+03   3.00247510e+03   3.25252510e+03   3.51787810e+03\n",
        "   3.79914610e+03   4.09695310e+03   4.41193510e+03   4.74474010e+03\n",
        "   5.09602810e+03   5.46647110e+03   5.85675310e+03   6.26757010e+03\n",
        "   6.69963010e+03   7.15365310e+03   7.63037110e+03   8.13052810e+03\n",
        "   8.65488010e+03   9.20419510e+03   9.77925310e+03   1.03808461e+04\n",
        "   1.10097781e+04   1.16668651e+04   1.23529351e+04   1.30688281e+04\n",
        "   1.38153961e+04   1.45935031e+04   1.54040251e+04   1.62478501e+04\n",
        "   1.71258781e+04   1.80390211e+04   1.89882031e+04   1.99743601e+04\n",
        "   2.09984401e+04   2.20614031e+04   2.31642211e+04   2.43078781e+04\n",
        "   2.54933701e+04   2.67217051e+04   2.79939031e+04   2.93109961e+04\n",
        "   3.06740281e+04   3.20840551e+04   3.35421451e+04   3.50493781e+04\n",
        "   3.66068461e+04   3.82156531e+04   3.98769151e+04   4.15917601e+04\n",
        "   4.33613281e+04   4.51867711e+04   4.70692531e+04   4.90099501e+04\n",
        "   4.90099501e+04]\n"
       ]
      }
     ],
     "prompt_number": 96
    },
    {
     "cell_type": "code",
     "collapsed": false,
     "input": [
      "x = arange(0.,10.01,0.1)\n",
      "dydxExact = 5*x**4\n",
      "print dydxExact"
     ],
     "language": "python",
     "metadata": {},
     "outputs": [
      {
       "output_type": "stream",
       "stream": "stdout",
       "text": [
        "[  0.00000000e+00   5.00000000e-04   8.00000000e-03   4.05000000e-02\n",
        "   1.28000000e-01   3.12500000e-01   6.48000000e-01   1.20050000e+00\n",
        "   2.04800000e+00   3.28050000e+00   5.00000000e+00   7.32050000e+00\n",
        "   1.03680000e+01   1.42805000e+01   1.92080000e+01   2.53125000e+01\n",
        "   3.27680000e+01   4.17605000e+01   5.24880000e+01   6.51605000e+01\n",
        "   8.00000000e+01   9.72405000e+01   1.17128000e+02   1.39920500e+02\n",
        "   1.65888000e+02   1.95312500e+02   2.28488000e+02   2.65720500e+02\n",
        "   3.07328000e+02   3.53640500e+02   4.05000000e+02   4.61760500e+02\n",
        "   5.24288000e+02   5.92960500e+02   6.68168000e+02   7.50312500e+02\n",
        "   8.39808000e+02   9.37080500e+02   1.04256800e+03   1.15672050e+03\n",
        "   1.28000000e+03   1.41288050e+03   1.55584800e+03   1.70940050e+03\n",
        "   1.87404800e+03   2.05031250e+03   2.23872800e+03   2.43984050e+03\n",
        "   2.65420800e+03   2.88240050e+03   3.12500000e+03   3.38260050e+03\n",
        "   3.65580800e+03   3.94524050e+03   4.25152800e+03   4.57531250e+03\n",
        "   4.91724800e+03   5.27800050e+03   5.65824800e+03   6.05868050e+03\n",
        "   6.48000000e+03   6.92292050e+03   7.38816800e+03   7.87648050e+03\n",
        "   8.38860800e+03   8.92531250e+03   9.48736800e+03   1.00755605e+04\n",
        "   1.06906880e+04   1.13335605e+04   1.20050000e+04   1.27058405e+04\n",
        "   1.34369280e+04   1.41991205e+04   1.49932880e+04   1.58203125e+04\n",
        "   1.66810880e+04   1.75765205e+04   1.85075280e+04   1.94750405e+04\n",
        "   2.04800000e+04   2.15233605e+04   2.26060880e+04   2.37291605e+04\n",
        "   2.48935680e+04   2.61003125e+04   2.73504080e+04   2.86448805e+04\n",
        "   2.99847680e+04   3.13711205e+04   3.28050000e+04   3.42874805e+04\n",
        "   3.58196480e+04   3.74026005e+04   3.90374480e+04   4.07253125e+04\n",
        "   4.24673280e+04   4.42646405e+04   4.61184080e+04   4.80298005e+04\n",
        "   5.00000000e+04]\n"
       ]
      }
     ],
     "prompt_number": 87
    },
    {
     "cell_type": "markdown",
     "metadata": {},
     "source": [
      "c)\n",
      "-"
     ]
    },
    {
     "cell_type": "code",
     "collapsed": false,
     "input": [
      "plot(x,finiteDifference(x,y),x,dydxExact)\n",
      "show()"
     ],
     "language": "python",
     "metadata": {},
     "outputs": [
      {
       "output_type": "display_data",
       "png": "[encoded data removed]"
      }
     ],
     "prompt_number": 98
    },
    {
     "cell_type": "markdown",
     "metadata": {},
     "source": [
      "d)\n",
      "-"
     ]
    },
    {
     "cell_type": "code",
     "collapsed": false,
     "input": [],
     "language": "python",
     "metadata": {},
     "outputs": []
    },
    {
     "cell_type": "markdown",
     "metadata": {},
     "source": [
      "Question 4\n",
      "="
     ]
    },
    {
     "cell_type": "markdown",
     "metadata": {},
     "source": [
      "a)\n",
      "-"
     ]
    },
    {
     "cell_type": "code",
     "collapsed": false,
     "input": [
      "x = linspace(0,2*pi,100)\n",
      "y = sin(x) + 0.1*random.random(size=x.shape)\n",
      "plot(x,y)\n",
      "show()"
     ],
     "language": "python",
     "metadata": {},
     "outputs": [
      {
       "output_type": "display_data",
       "png": "[encoded data removed]"
      }
     ],
     "prompt_number": 103
    },
    {
     "cell_type": "markdown",
     "metadata": {},
     "source": [
      "b)\n",
      "-"
     ]
    },
    {
     "cell_type": "code",
     "collapsed": false,
     "input": [],
     "language": "python",
     "metadata": {},
     "outputs": []
    }
   ],
   "metadata": {}
  }
 ]
}