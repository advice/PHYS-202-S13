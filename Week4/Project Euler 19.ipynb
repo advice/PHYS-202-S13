{
 "metadata": {
  "name": "Project Euler 19"
 },
 "nbformat": 3,
 "nbformat_minor": 0,
 "worksheets": [
  {
   "cells": [
    {
     "cell_type": "markdown",
     "metadata": {},
     "source": [
      "You are given the following information, but you may prefer to do some research for yourself.\n",
      "\n",
      "1 Jan 1900 was a Monday.\n",
      "\n",
      "Thirty days has September,\n",
      "April, June and November.\n",
      "All the rest have thirty-one,\n",
      "Saving February alone,\n",
      "Which has twenty-eight, rain or shine.\n",
      "And on leap years, twenty-nine.\n",
      "\n",
      "A leap year occurs on any year evenly divisible by 4, but not on a century unless it is divisible by 400.\n",
      "How many Sundays fell on the first of the month during the twentieth century (1 Jan 1901 to 31 Dec 2000)?"
     ]
    },
    {
     "cell_type": "code",
     "collapsed": false,
     "input": [
      "leapyrs = [1904,1908,1912,1916,1920,1924,1928,1932,1936,1940,1944,1948,1952,1956,1960,1964,1968,1972,1976,1980,1984,1988,1992,1996,2000] #ended up not being used\n",
      "monthdays ={1:31,2:28,3:31,4:30,5:31,6:30,7:31,8:31,9:30,10:31,11:30,12:31}\n",
      "startday = 2 #Starting on a monday ie day two of the week\n",
      "sundays = 0\n",
      "for month in range(1,13): #A for loop for the 12 months\n",
      "    day = startday\n",
      "    for year in arange(1901,2001): # a for loop for the 100 years\n",
      "        leap = False\n",
      "        prevyr = year-1 \n",
      "        if prevyr % 100 == 0 and prevyear % 400 == 0: #Leap years on the centuries\n",
      "            leap = True\n",
      "        elif prevyr % 4 == 0: #Leap years every other 4 years\n",
      "            leap = True\n",
      "\n",
      "        if leap:\n",
      "            day = (day + 2) % 7 # if leap add two days to the start of each year\n",
      "        else:\n",
      "            day = (day + 1) % 7 # if not leap only add one\n",
      "\n",
      "        if day == 0: #when the day is sunday add one to the sundays count\n",
      "            sundays += 1\n",
      "    tmp = monthdays[month] + 1 # adds one to the number of days in each month\n",
      "    startday = (startday + (tmp - ((tmp/7)*7)) - 1) % 7 # determines which day is at the start of each month\n",
      "   \n",
      "print sundays"
     ],
     "language": "python",
     "metadata": {},
     "outputs": [
      {
       "output_type": "stream",
       "stream": "stdout",
       "text": [
        "171\n"
       ]
      }
     ],
     "prompt_number": 58
    },
    {
     "cell_type": "code",
     "collapsed": false,
     "input": [
      "#Testcase\n",
      "print year\n",
      "print leap\n",
      "print tmp\n",
      "print startday\n",
      "print day"
     ],
     "language": "python",
     "metadata": {},
     "outputs": [
      {
       "output_type": "stream",
       "stream": "stdout",
       "text": [
        "2000\n",
        "False\n",
        "32\n",
        "3\n",
        "6\n"
       ]
      }
     ],
     "prompt_number": 64
    },
    {
     "cell_type": "code",
     "collapsed": false,
     "input": [],
     "language": "python",
     "metadata": {},
     "outputs": []
    }
   ],
   "metadata": {}
  }
 ]
}