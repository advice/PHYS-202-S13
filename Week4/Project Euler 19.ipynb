{
 "metadata": {
  "name": "Project Euler 19"
 },
 "nbformat": 3,
 "nbformat_minor": 0,
 "worksheets": [
  {
   "cells": [
    {
     "cell_type": "markdown",
     "metadata": {},
     "source": [
      "You are given the following information, but you may prefer to do some research for yourself.\n",
      "\n",
      "1 Jan 1900 was a Monday.\n",
      "\n",
      "Thirty days has September,\n",
      "April, June and November.\n",
      "All the rest have thirty-one,\n",
      "Saving February alone,\n",
      "Which has twenty-eight, rain or shine.\n",
      "And on leap years, twenty-nine.\n",
      "\n",
      "A leap year occurs on any year evenly divisible by 4, but not on a century unless it is divisible by 400.\n",
      "How many Sundays fell on the first of the month during the twentieth century (1 Jan 1901 to 31 Dec 2000)?"
     ]
    },
    {
     "cell_type": "code",
     "collapsed": false,
     "input": [
      "monthdays ={1:31,2:28,3:31,4:30,5:31,6:30,7:31,8:31,9:30,10:31,11:30,12:31}\n",
      "startday = 2\n",
      "count = 0\n",
      "for m in range(1,13):\n",
      "    currday = startday\n",
      "    for curryear in xrange(1901,2001):\n",
      "        leap = False\n",
      "        prevyear = curryear-1\n",
      "        if prevyear % 100 == 0 and prevyear % 400 == 0:\n",
      "            leap = True\n",
      "        elif prevyear % 4 == 0:\n",
      "            leap = True\n",
      "\n",
      "        if leap:\n",
      "            currday = (currday + 2) % 7\n",
      "        else:\n",
      "            currday = (currday + 1) % 7\n",
      "\n",
      "        if currday == 0:\n",
      "            count += 1\n",
      "    tmp = monthdays[m] + 1\n",
      "    startday = (startday + (tmp - ((tmp/7)*7)) - 1) % 7\n",
      "   \n",
      "print count"
     ],
     "language": "python",
     "metadata": {},
     "outputs": [
      {
       "output_type": "stream",
       "stream": "stdout",
       "text": [
        "171\n"
       ]
      }
     ],
     "prompt_number": 6
    },
    {
     "cell_type": "code",
     "collapsed": false,
     "input": [
      "100*12/7"
     ],
     "language": "python",
     "metadata": {},
     "outputs": [
      {
       "output_type": "pyout",
       "prompt_number": 4,
       "text": [
        "171"
       ]
      }
     ],
     "prompt_number": 4
    },
    {
     "cell_type": "code",
     "collapsed": false,
     "input": [],
     "language": "python",
     "metadata": {},
     "outputs": []
    }
   ],
   "metadata": {}
  }
 ]
}