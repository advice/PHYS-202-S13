{
 "metadata": {
  "name": "Project Euler 31"
 },
 "nbformat": 3,
 "nbformat_minor": 0,
 "worksheets": [
  {
   "cells": [
    {
     "cell_type": "markdown",
     "metadata": {},
     "source": [
      "Coin Sums\n",
      "=\n",
      "Problem 31\n",
      "-\n",
      "In England the currency is made up of pound, \u00a3, and pence, p, and there are eight coins in general circulation:\n",
      "\n",
      "    1p, 2p, 5p, 10p, 20p, 50p, \u00a31 (100p) and \u00a32 (200p).\n",
      "\n",
      "It is possible to make \u00a32 in the following way:\n",
      "\n",
      "    1x\u00a31 + 1x50p + 2x20p + 1x5p + 1x2p + 3x1p\n",
      "\n",
      "How many different ways can \u00a32 be made using any number of coins?"
     ]
    },
    {
     "cell_type": "code",
     "collapsed": false,
     "input": [
      "coin = [1,2,5,10,20,50,100,200] #the different kinds of coin/pence combos\n",
      "ways = [1]+[0]*200 #this createsan array of 201 different \"ways\" \n",
      "\n",
      "\n",
      "for c in coin: #how the program chooses a pence ammount for each coin\n",
      "    for i in arange(c, 201):   # the range for each coin to add up to 200 \n",
      "        ways[i] += ways[i-c]  # the range is also exclusive\n",
      "print \"Ammount of ways we can attain 200 pence=\",ways[200]"
     ],
     "language": "python",
     "metadata": {},
     "outputs": [
      {
       "output_type": "stream",
       "stream": "stdout",
       "text": [
        "Ammount of ways we can attain 200 pence= 73682\n"
       ]
      }
     ],
     "prompt_number": 41
    },
    {
     "cell_type": "markdown",
     "metadata": {},
     "source": [
      "for 5 pence, we could use: \n",
      "\n",
      "    5x1p\n",
      "    3x1p, 1x2p\n",
      "    1x1p, 2x2p\n",
      "    1x5p\n",
      "\n",
      "this gives us 4 different ways"
     ]
    },
    {
     "cell_type": "code",
     "collapsed": false,
     "input": [
      "print \"Ammount of ways we can attain 5 pence=\", ways[5]"
     ],
     "language": "python",
     "metadata": {},
     "outputs": [
      {
       "output_type": "stream",
       "stream": "stdout",
       "text": [
        "Ammount of ways we can attain 5 pence= 4\n"
       ]
      }
     ],
     "prompt_number": 40
    },
    {
     "cell_type": "code",
     "collapsed": false,
     "input": [],
     "language": "python",
     "metadata": {},
     "outputs": []
    }
   ],
   "metadata": {}
  }
 ]
}