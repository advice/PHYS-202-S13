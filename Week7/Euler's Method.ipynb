{
 "metadata": {
  "name": "Euler's Method"
 },
 "nbformat": 3,
 "nbformat_minor": 0,
 "worksheets": [
  {
   "cells": [
    {
     "cell_type": "markdown",
     "metadata": {},
     "source": [
      "Exercise 1\n",
      "==\n",
      "a)\n",
      "-"
     ]
    },
    {
     "cell_type": "code",
     "collapsed": false,
     "input": [
      "f = lambda x,y: x+2*y\n",
      "\n",
      "n=.25    \n",
      "x0 = 0\n",
      "x1 = 1\n",
      "y0 = 0\n",
      "x = x0\n",
      "y = y0\n",
      "h=(x1-x0)/n\n",
      "\n",
      "while x< x1:\n",
      "    y += n*f(x,y)\n",
      "    x += n\n",
      "print y"
     ],
     "language": "python",
     "metadata": {},
     "outputs": [
      {
       "output_type": "stream",
       "stream": "stdout",
       "text": [
        "0.515625\n"
       ]
      }
     ],
     "prompt_number": 16
    },
    {
     "cell_type": "code",
     "collapsed": false,
     "input": [
      "f = lambda x,y: x+2*y\n",
      "\n",
      "n=.02    \n",
      "x0 = 0\n",
      "x1 = 1\n",
      "y0 = 0\n",
      "x = x0\n",
      "y = y0\n",
      "h=(x1-x0)/n\n",
      "\n",
      "while x< x1:\n",
      "    y += n*f(x,y)\n",
      "    x += n\n",
      "print y"
     ],
     "language": "python",
     "metadata": {},
     "outputs": [
      {
       "output_type": "stream",
       "stream": "stdout",
       "text": [
        "1.02667083657\n"
       ]
      }
     ],
     "prompt_number": 18
    },
    {
     "cell_type": "code",
     "collapsed": false,
     "input": [
      "def f(x,y):\n",
      "    value = x+2*y\n",
      "    return value\n",
      "\n",
      "def euler(x0,y0,n,x1):\n",
      "    x=x0; y=y0; xd=[x0]; yd=[y0];\n",
      "    while x < x1:\n",
      "        y = y+n*f(x,y)\n",
      "        yd.append(y)\n",
      "        x=x+n\n",
      "        xd.append(x)\n",
      "    return(xd,yd)\n",
      "\n",
      "(xvals,yvals) = euler(0,0,.25,1)\n",
      "for uv1 in zip(xvals,yvals):\n",
      "    print uv1[0],uv1[1]\n",
      "    k=uv1[0]; j=uv1[1]\n",
      "print j"
     ],
     "language": "python",
     "metadata": {},
     "outputs": [
      {
       "output_type": "stream",
       "stream": "stdout",
       "text": [
        "0 0\n",
        "0.25 0.0\n",
        "0.5 0.0625\n",
        "0.75 0.21875\n",
        "1.0 0.515625\n",
        "0.515625\n"
       ]
      }
     ],
     "prompt_number": 41
    },
    {
     "cell_type": "code",
     "collapsed": false,
     "input": [
      "def f(x,y):\n",
      "    value = x+2*y\n",
      "    return value\n",
      "\n",
      "def euler(x0,y0,n,x1):\n",
      "    x=x0; y=y0; xd=[x0]; yd=[y0];\n",
      "    while x < x1:\n",
      "        y = y+n*f(x,y)\n",
      "        yd.append(y)\n",
      "        x=x+n\n",
      "        xd.append(x)\n",
      "    return(xd,yd)\n",
      "\n",
      "(xvals1,yvals1) = euler(0,0,.02,1)\n",
      "for uv2 in zip(xvals1,yvals1):\n",
      "    print uv2[0],uv2[1]"
     ],
     "language": "python",
     "metadata": {},
     "outputs": [
      {
       "output_type": "stream",
       "stream": "stdout",
       "text": [
        "0 0\n",
        "0.02 0.0\n",
        "0.04 0.0004\n",
        "0.06 0.001216\n",
        "0.08 0.00246464\n",
        "0.1 0.0041632256\n",
        "0.12 0.006329754624\n",
        "0.14 0.00898294480896\n",
        "0.16 0.0121422626013\n",
        "0.18 0.0158279531054\n",
        "0.2 0.0200610712296\n",
        "0.22 0.0248635140788\n",
        "0.24 0.0302580546419\n",
        "0.26 0.0362683768276\n",
        "0.28 0.0429191119007\n",
        "0.3 0.0502358763767\n",
        "0.32 0.0582453114318\n",
        "0.34 0.0669751238891\n",
        "0.36 0.0764541288446\n",
        "0.38 0.0867122939984\n",
        "0.4 0.0977807857584\n",
        "0.42 0.109692017189\n",
        "0.44 0.122479697876\n",
        "0.46 0.136178885791\n",
        "0.48 0.150826041223\n",
        "0.5 0.166459082872\n",
        "0.52 0.183117446187\n",
        "0.54 0.200842144034\n",
        "0.56 0.219675829796\n",
        "0.58 0.239662862987\n",
        "0.6 0.260849377507\n",
        "0.62 0.283283352607\n",
        "0.64 0.307014686711\n",
        "0.66 0.33209527418\n",
        "0.68 0.358579085147\n",
        "0.7 0.386522248553\n",
        "0.72 0.415983138495\n",
        "0.74 0.447022464035\n",
        "0.76 0.479703362596\n",
        "0.78 0.5140914971\n",
        "0.8 0.550255156984\n",
        "0.82 0.588265363264\n",
        "0.84 0.628195977794\n",
        "0.86 0.670123816906\n",
        "0.88 0.714128769582\n",
        "0.9 0.760293920365\n",
        "0.92 0.80870567718\n",
        "0.94 0.859453904267\n",
        "0.96 0.912632060438\n",
        "0.98 0.968337342855\n",
        "1.0 1.02667083657\n"
       ]
      }
     ],
     "prompt_number": 44
    },
    {
     "cell_type": "markdown",
     "metadata": {},
     "source": [
      "b)\n",
      "-"
     ]
    },
    {
     "cell_type": "code",
     "collapsed": false,
     "input": [
      "y = lambda x: 0.25*exp(2*x)-0.5*x-0.25\n",
      "x= arange(0,1,.01)\n",
      "plot(x,y(x), label=\"exact\")\n",
      "plot(xvals,yvals, label= \".25 steps\")\n",
      "plot(xvals1,yvals1, label = \".02 steps\")\n",
      "legend(loc=0)\n",
      "show()"
     ],
     "language": "python",
     "metadata": {},
     "outputs": [
      {
       "output_type": "display_data",
       "png": "[encoded data removed]"
      }
     ],
     "prompt_number": 117
    },
    {
     "cell_type": "markdown",
     "metadata": {},
     "source": [
      "c)\n",
      "-"
     ]
    },
    {
     "cell_type": "markdown",
     "metadata": {},
     "source": [
      "Midpoint\n",
      "-"
     ]
    },
    {
     "cell_type": "code",
     "collapsed": false,
     "input": [
      "f = lambda x, y:x+2*y\n",
      "n=.25\n",
      "x0=0\n",
      "x1=1.25\n",
      "y0=0\n",
      "x=x0\n",
      "k=y0\n",
      "im25=zeros(10)\n",
      "im25=[]\n",
      "while x<x1:\n",
      "    k+= n*(f(x,k)+f(x+n,k))/2\n",
      "    x+= n\n",
      "    im25.append(k)\n",
      "print k"
     ],
     "language": "python",
     "metadata": {},
     "outputs": [
      {
       "output_type": "stream",
       "stream": "stdout",
       "text": [
        "1.435546875\n"
       ]
      }
     ],
     "prompt_number": 109
    },
    {
     "cell_type": "code",
     "collapsed": false,
     "input": [
      "f = lambda x, y:x+2*y\n",
      "n=.02\n",
      "x0=0\n",
      "x1=1.02\n",
      "y0=0\n",
      "x=x0\n",
      "g=y0\n",
      "im02=zeros(10)\n",
      "im02=[]\n",
      "while x<x1:\n",
      "    g+= n*(f(x,g)+f(x+n,g))/2\n",
      "    x+= n\n",
      "    im02.append(g)\n",
      "print g"
     ],
     "language": "python",
     "metadata": {},
     "outputs": [
      {
       "output_type": "stream",
       "stream": "stdout",
       "text": [
        "1.11969242343\n"
       ]
      }
     ],
     "prompt_number": 110
    },
    {
     "cell_type": "markdown",
     "metadata": {},
     "source": [
      "Euler Cromer\n",
      "-"
     ]
    },
    {
     "cell_type": "code",
     "collapsed": false,
     "input": [
      "f = lambda x, y:x+2*y\n",
      "n=.25\n",
      "x0=0\n",
      "x1=1.25\n",
      "y0=0\n",
      "x=x0\n",
      "k=y0\n",
      "jc25=zeros(10)\n",
      "jc25=[]\n",
      "while x<x1:\n",
      "    k+= n*f(x+n,k)\n",
      "    x+= n\n",
      "    jc25.append(k)\n",
      "print k"
     ],
     "language": "python",
     "metadata": {},
     "outputs": [
      {
       "output_type": "stream",
       "stream": "stdout",
       "text": [
        "1.84765625\n"
       ]
      }
     ],
     "prompt_number": 111
    },
    {
     "cell_type": "code",
     "collapsed": false,
     "input": [
      "f = lambda x, y:x+2*y\n",
      "n=.02\n",
      "x0=0\n",
      "x1=1.02\n",
      "y0=0\n",
      "x=x0\n",
      "g=y0\n",
      "jc02 = zeros(10)\n",
      "jc02 = []\n",
      "while x<x1:\n",
      "    g+= n*f(x+n,g)\n",
      "    x+= n\n",
      "    jc02.append(g)\n",
      "print g"
     ],
     "language": "python",
     "metadata": {},
     "outputs": [
      {
       "output_type": "stream",
       "stream": "stdout",
       "text": [
        "1.15164717683\n"
       ]
      }
     ],
     "prompt_number": 112
    },
    {
     "cell_type": "code",
     "collapsed": false,
     "input": [
      "x= arange(0,1.25,.25)\n",
      "y = lambda x: 0.25*exp(2*x)-0.5*x-0.25\n",
      "exact25 = []\n",
      "for i in x:\n",
      "    exact25.append(y(i))"
     ],
     "language": "python",
     "metadata": {},
     "outputs": [],
     "prompt_number": 113
    },
    {
     "cell_type": "code",
     "collapsed": false,
     "input": [
      "x= arange(0,1.02,.02)\n",
      "y = lambda x: 0.25*exp(2*x)-0.5*x-0.25\n",
      "exact02 = []\n",
      "for i in x:\n",
      "    exact02.append(y(i))"
     ],
     "language": "python",
     "metadata": {},
     "outputs": [],
     "prompt_number": 114
    },
    {
     "cell_type": "code",
     "collapsed": false,
     "input": [
      "x= arange(0,5,1)\n",
      "Errorm25 = []\n",
      "Errorc25 = []\n",
      "for i in x:\n",
      "    Errorm25.append((im25[i] - exact25[i])/exact25[i])\n",
      "    Errorc25.append((jc25[i] - exact25[i])/exact25[i])\n",
      "y= arange(0,51,1)\n",
      "Errorm02 = []\n",
      "Errorc02 = []\n",
      "for i in y:\n",
      "    Errorm02.append((im02[i] - exact02[i])/exact02[i])\n",
      "    Errorc02.append((jc02[i] - exact02[i])/exact02[i])"
     ],
     "language": "python",
     "metadata": {},
     "outputs": [],
     "prompt_number": 116
    },
    {
     "cell_type": "code",
     "collapsed": false,
     "input": [
      "x = arange(0,1.25,.25)\n",
      "plot(x,Errorm25, label=\"Error midpoint steps=.25\")\n",
      "plot(x,Errorc25, label=\"Error Euler Cromer steps=.25\")\n",
      "y = arange(0,1.02,.02)\n",
      "plot(y,Errorm02, label=\"Error Midpoint steps=.02\")\n",
      "plot(y,Errorc02, label=\"Error Euler Cromer steps=.02\")\n",
      "legend(loc=0)\n",
      "show()\n"
     ],
     "language": "python",
     "metadata": {},
     "outputs": [
      {
       "output_type": "display_data",
       "png": "[encoded data removed]"
      }
     ],
     "prompt_number": 122
    },
    {
     "cell_type": "code",
     "collapsed": false,
     "input": [],
     "language": "python",
     "metadata": {},
     "outputs": []
    }
   ],
   "metadata": {}
  }
 ]
}