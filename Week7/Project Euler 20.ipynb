{
 "metadata": {
  "name": "Project Euler 20"
 },
 "nbformat": 3,
 "nbformat_minor": 0,
 "worksheets": [
  {
   "cells": [
    {
     "cell_type": "markdown",
     "metadata": {},
     "source": [
      "Problem 20\n",
      "=\n",
      "\n",
      "n! means n  (n  1)  ...  3  2  1\n",
      "\n",
      "For example, 10! = 10  9  ...  3  2  1 = 3628800, \n",
      "\n",
      "and the sum of the digits in the number 10! is 3 + 6 + 2 + 8 + 8 + 0 + 0 = 27.\n",
      "\n",
      "Find the sum of the digits in the number 100!\n"
     ]
    },
    {
     "cell_type": "code",
     "collapsed": false,
     "input": [
      "def fact(n): #Test case\n",
      "    if n == 0: return 1\n",
      "    else: \n",
      "        return n * fact(n - 1)\n",
      " \n",
      "def sum_digits(n):\n",
      "    return sum([int(i) for i in str(n)])\n",
      " \n",
      "sumfac = sum_digits(fact(10))\n",
      "print sumfac"
     ],
     "language": "python",
     "metadata": {},
     "outputs": [
      {
       "output_type": "stream",
       "stream": "stdout",
       "text": [
        "27\n"
       ]
      }
     ],
     "prompt_number": 13
    },
    {
     "cell_type": "code",
     "collapsed": false,
     "input": [
      "def fact(n):\n",
      "    if n == 0: return 1 # Setting factorial of zero\n",
      "    else: \n",
      "        return n * fact(n - 1) #factorial def\n",
      " \n",
      "def sum_digits(n):\n",
      "    return sum([int(i) for i in str(n)]) #summing up each number in the string\n",
      " \n",
      "sumfac = sum_digits(fact(100)) #for n =100\n",
      "print sumfac"
     ],
     "language": "python",
     "metadata": {},
     "outputs": [
      {
       "output_type": "stream",
       "stream": "stdout",
       "text": [
        "648\n"
       ]
      }
     ],
     "prompt_number": 14
    },
    {
     "cell_type": "code",
     "collapsed": false,
     "input": [],
     "language": "python",
     "metadata": {},
     "outputs": []
    }
   ],
   "metadata": {}
  }
 ]
}