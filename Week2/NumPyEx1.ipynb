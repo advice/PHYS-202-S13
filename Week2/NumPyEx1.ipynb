{
 "metadata": {
  "name": "NumPyEx1"
 },
 "nbformat": 3,
 "nbformat_minor": 0,
 "worksheets": [
  {
   "cells": [
    {
     "cell_type": "markdown",
     "metadata": {},
     "source": [
      "1. Create the following arrays with correct data types:\n",
      "---"
     ]
    },
    {
     "cell_type": "code",
     "collapsed": false,
     "input": [
      "import numpy as np"
     ],
     "language": "python",
     "metadata": {},
     "outputs": [],
     "prompt_number": 1
    },
    {
     "cell_type": "code",
     "collapsed": false,
     "input": [
      "a=np.ones((4,4), dtype=int) #This is for the first part of the question\n",
      "a[2,3]=2\n",
      "a[3,1]=6"
     ],
     "language": "python",
     "metadata": {},
     "outputs": [],
     "prompt_number": 11
    },
    {
     "cell_type": "code",
     "collapsed": false,
     "input": [
      "print a"
     ],
     "language": "python",
     "metadata": {},
     "outputs": [
      {
       "output_type": "stream",
       "stream": "stdout",
       "text": [
        "[[1 1 1 1]\n",
        " [1 1 1 1]\n",
        " [1 1 1 2]\n",
        " [1 6 1 1]]\n"
       ]
      }
     ],
     "prompt_number": 8
    },
    {
     "cell_type": "code",
     "collapsed": false,
     "input": [
      "a=np.array([0.,0.,0.,0.,0.])\n",
      "b=np.diag(np.array([2.,3.,4.,5.,6.]))\n",
      "\n",
      "b"
     ],
     "language": "python",
     "metadata": {},
     "outputs": [
      {
       "output_type": "pyout",
       "prompt_number": 5,
       "text": [
        "array([[ 2.,  0.,  0.,  0.,  0.],\n",
        "       [ 0.,  3.,  0.,  0.,  0.],\n",
        "       [ 0.,  0.,  4.,  0.,  0.],\n",
        "       [ 0.,  0.,  0.,  5.,  0.],\n",
        "       [ 0.,  0.,  0.,  0.,  6.]])"
       ]
      }
     ],
     "prompt_number": 5
    },
    {
     "cell_type": "markdown",
     "metadata": {},
     "source": [
      "2. Read the documentation for np.tile and use this function to construct the following array:\n",
      "--"
     ]
    },
    {
     "cell_type": "code",
     "collapsed": false,
     "input": [
      "a=np.tile([4,3],3)\n",
      "b=np.tile([2,1],3)\n",
      "c=np.array([a,b,a,b])\n",
      "c"
     ],
     "language": "python",
     "metadata": {},
     "outputs": [
      {
       "output_type": "pyout",
       "prompt_number": 2,
       "text": [
        "array([[4, 3, 4, 3, 4, 3],\n",
        "       [2, 1, 2, 1, 2, 1],\n",
        "       [4, 3, 4, 3, 4, 3],\n",
        "       [2, 1, 2, 1, 2, 1]])"
       ]
      }
     ],
     "prompt_number": 2
    },
    {
     "cell_type": "markdown",
     "metadata": {},
     "source": [
      "3. Let's create a prime number sieve. We will use the sieve to see what numbers between 0 and 100 are prime.\n",
      "====="
     ]
    },
    {
     "cell_type": "markdown",
     "metadata": {},
     "source": [
      "(a) First, construct an array of booleans called is prime with shape (100,), fi\f",
      "lled with\n",
      "True in all the elements."
     ]
    },
    {
     "cell_type": "code",
     "collapsed": false,
     "input": [
      "is_prime = np.ones((100,), dtype=bool)"
     ],
     "language": "python",
     "metadata": {},
     "outputs": [],
     "prompt_number": 6
    },
    {
     "cell_type": "markdown",
     "metadata": {},
     "source": [
      "(b) The index of each boolean element represents the number. \"Cross out\" 0 and 1, which\n",
      "are not primes. You can either set them to False or 0 (which python recognizes as equiv-\n",
      "alent to False for boolean types)."
     ]
    },
    {
     "cell_type": "code",
     "collapsed": false,
     "input": [
      "is_prime[0] = False"
     ],
     "language": "python",
     "metadata": {},
     "outputs": [],
     "prompt_number": 7
    },
    {
     "cell_type": "code",
     "collapsed": false,
     "input": [
      "is_prime[1] = False"
     ],
     "language": "python",
     "metadata": {},
     "outputs": [],
     "prompt_number": 8
    },
    {
     "cell_type": "markdown",
     "metadata": {},
     "source": [
      "(c) For each subsequent integer j starting from 2, cross out its higher multiples:"
     ]
    },
    {
     "cell_type": "code",
     "collapsed": false,
     "input": [
      "N_max = int(np.sqrt(len(is_prime)))\n",
      "for j in range(2, N_max):\n",
      "    is_prime[2*j::j] = False"
     ],
     "language": "python",
     "metadata": {},
     "outputs": [],
     "prompt_number": 9
    },
    {
     "cell_type": "markdown",
     "metadata": {},
     "source": [
      "This code is taking the index for every number in the range of 2 through the square root of the length of is_prime, and it is saying that for every number that is a multiple of two starting at 2 and ending at the end of the range (in our case 10) that all of these multiples will be set to False."
     ]
    },
    {
     "cell_type": "markdown",
     "metadata": {},
     "source": [
      "(d) Look up the documentation for np.nonzero (try help(np.nonzero)) and use it to\n",
      "print the prime numbers."
     ]
    },
    {
     "cell_type": "code",
     "collapsed": false,
     "input": [
      "help(np.nonzero)"
     ],
     "language": "python",
     "metadata": {},
     "outputs": [
      {
       "output_type": "stream",
       "stream": "stdout",
       "text": [
        "Help on function nonzero in module numpy.core.fromnumeric:\n",
        "\n",
        "nonzero(a)\n",
        "    Return the indices of the elements that are non-zero.\n",
        "    \n",
        "    Returns a tuple of arrays, one for each dimension of `a`, containing\n",
        "    the indices of the non-zero elements in that dimension. The\n",
        "    corresponding non-zero values can be obtained with::\n",
        "    \n",
        "        a[nonzero(a)]\n",
        "    \n",
        "    To group the indices by element, rather than dimension, use::\n",
        "    \n",
        "        transpose(nonzero(a))\n",
        "    \n",
        "    The result of this is always a 2-D array, with a row for\n",
        "    each non-zero element.\n",
        "    \n",
        "    Parameters\n",
        "    ----------\n",
        "    a : array_like\n",
        "        Input array.\n",
        "    \n",
        "    Returns\n",
        "    -------\n",
        "    tuple_of_arrays : tuple\n",
        "        Indices of elements that are non-zero.\n",
        "    \n",
        "    See Also\n",
        "    --------\n",
        "    flatnonzero :\n",
        "        Return indices that are non-zero in the flattened version of the input\n",
        "        array.\n",
        "    ndarray.nonzero :\n",
        "        Equivalent ndarray method.\n",
        "    count_nonzero :\n",
        "        Counts the number of non-zero elements in the input array.\n",
        "    \n",
        "    Examples\n",
        "    --------\n",
        "    >>> x = np.eye(3)\n",
        "    >>> x\n",
        "    array([[ 1.,  0.,  0.],\n",
        "           [ 0.,  1.,  0.],\n",
        "           [ 0.,  0.,  1.]])\n",
        "    >>> np.nonzero(x)\n",
        "    (array([0, 1, 2]), array([0, 1, 2]))\n",
        "    \n",
        "    >>> x[np.nonzero(x)]\n",
        "    array([ 1.,  1.,  1.])\n",
        "    >>> np.transpose(np.nonzero(x))\n",
        "    array([[0, 0],\n",
        "           [1, 1],\n",
        "           [2, 2]])\n",
        "    \n",
        "    A common use for ``nonzero`` is to find the indices of an array, where\n",
        "    a condition is True.  Given an array `a`, the condition `a` > 3 is a\n",
        "    boolean array and since False is interpreted as 0, np.nonzero(a > 3)\n",
        "    yields the indices of the `a` where the condition is true.\n",
        "    \n",
        "    >>> a = np.array([[1,2,3],[4,5,6],[7,8,9]])\n",
        "    >>> a > 3\n",
        "    array([[False, False, False],\n",
        "           [ True,  True,  True],\n",
        "           [ True,  True,  True]], dtype=bool)\n",
        "    >>> np.nonzero(a > 3)\n",
        "    (array([1, 1, 1, 2, 2, 2]), array([0, 1, 2, 0, 1, 2]))\n",
        "    \n",
        "    The ``nonzero`` method of the boolean array can also be called.\n",
        "    \n",
        "    >>> (a > 3).nonzero()\n",
        "    (array([1, 1, 1, 2, 2, 2]), array([0, 1, 2, 0, 1, 2]))\n",
        "\n"
       ]
      }
     ],
     "prompt_number": 10
    },
    {
     "cell_type": "code",
     "collapsed": false,
     "input": [
      "print np.nonzero(is_prime)"
     ],
     "language": "python",
     "metadata": {},
     "outputs": [
      {
       "output_type": "stream",
       "stream": "stdout",
       "text": [
        "(array([ 2,  3,  5,  7, 11, 13, 17, 19, 23, 29, 31, 37, 41, 43, 47, 53, 59,\n",
        "       61, 67, 71, 73, 79, 83, 89, 97]),)\n"
       ]
      }
     ],
     "prompt_number": 11
    },
    {
     "cell_type": "code",
     "collapsed": false,
     "input": [
      "def eratosthenes_sieve(maximum):\n",
      "    maxim = maximum+1\n",
      "    primes = range(2, maxim)\n",
      "\n",
      "    for i in primes:\n",
      "        factors = range(i, maxim, i)\n",
      "        for f in factors[1:]:\n",
      "            if f in primes:\n",
      "                primes.remove(f)\n",
      "    return primes\n",
      "print eratosthenes_sieve(100)"
     ],
     "language": "python",
     "metadata": {},
     "outputs": [
      {
       "output_type": "stream",
       "stream": "stdout",
       "text": [
        "[2, 3, 5, 7, 11, 13, 17, 19, 23, 29, 31, 37, 41, 43, 47, 53, 59, 61, 67, 71, 73, 79, 83, 89, 97]\n"
       ]
      }
     ],
     "prompt_number": 14
    },
    {
     "cell_type": "code",
     "collapsed": false,
     "input": [
      "def sieve(maximum):\n",
      "    primes = range(2,maximum+1)\n",
      "    for i in primes:\n",
      "        j=2\n",
      "        while i*j <= primes[-1]:\n",
      "            if i*j in primes:\n",
      "                primes.remove(i*j)\n",
      "            j+=1\n",
      "    return primes\n",
      "\n",
      "print sieve(100)  \n",
      "    "
     ],
     "language": "python",
     "metadata": {},
     "outputs": [
      {
       "output_type": "stream",
       "stream": "stdout",
       "text": [
        "[2, 3, 5, 7, 11, 13, 17, 19, 23, 29, 31, 37, 41, 43, 47, 53, 59, 61, 67, 71, 73, 79, 83, 89, 97]\n"
       ]
      }
     ],
     "prompt_number": 22
    },
    {
     "cell_type": "markdown",
     "metadata": {},
     "source": [
      "4. Let's do some manipulations on numpy arrays by starting with a stock image provided in scipy. It turns out that digital images are just arrays of numbers representing the relative intensity (for B/W images) or RGB values (for color images) of the pixels in the image. So we can use the array operations we have learned to do digital image processing!\n",
      "====="
     ]
    },
    {
     "cell_type": "markdown",
     "metadata": {},
     "source": [
      "(a) Import the scipy stock image into an array (since it is coming from scipy, it is a numpy array):"
     ]
    },
    {
     "cell_type": "code",
     "collapsed": false,
     "input": [],
     "language": "python",
     "metadata": {},
     "outputs": []
    }
   ],
   "metadata": {}
  }
 ]
}