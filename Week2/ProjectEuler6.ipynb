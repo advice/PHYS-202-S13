{
 "metadata": {
  "name": "ProjectEuler6"
 },
 "nbformat": 3,
 "nbformat_minor": 0,
 "worksheets": [
  {
   "cells": [
    {
     "cell_type": "markdown",
     "metadata": {},
     "source": [
      "Sum square difference\n",
      "====================\n",
      "\n",
      "Problem 6\n",
      "----------\n",
      "The sum of the squares of the first ten natural numbers is,\n",
      "\n",
      "1$^2$ + 2$^2$ + ... + 10$^2$ = 385\n",
      "\n",
      "The square of the sum of the first ten natural numbers is,\n",
      "\n",
      "(1 + 2 + ... + 10)$^2$ = 552 = 3025\n",
      "\n",
      "Hence the difference between the sum of the squares of the first ten natural numbers and the square of the sum is\n",
      "\n",
      "3025 - 385 = 2640.\n",
      "\n",
      "Find the difference between the sum of the squares of the first one hundred natural numbers and the square of the sum."
     ]
    },
    {
     "cell_type": "code",
     "collapsed": false,
     "input": [
      "sum_square = 0\n",
      "square_sum = 0\n",
      " \n",
      "for number in ((x,x ** 2) for x in range(1,100+1)):\n",
      "    sum_square += number[0]\n",
      "    square_sum += number[-1]\n",
      " \n",
      "print(sum_square ** 2 - square_sum)"
     ],
     "language": "python",
     "metadata": {},
     "outputs": [
      {
       "output_type": "stream",
       "stream": "stdout",
       "text": [
        "25164150\n"
       ]
      }
     ],
     "prompt_number": 7
    },
    {
     "cell_type": "code",
     "collapsed": false,
     "input": [],
     "language": "python",
     "metadata": {},
     "outputs": []
    }
   ],
   "metadata": {}
  }
 ]
}