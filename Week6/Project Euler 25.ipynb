{
 "metadata": {
  "name": "Project Euler 25"
 },
 "nbformat": 3,
 "nbformat_minor": 0,
 "worksheets": [
  {
   "cells": [
    {
     "cell_type": "markdown",
     "metadata": {},
     "source": [
      "1000-digit Fibonacci number\n",
      "="
     ]
    },
    {
     "cell_type": "markdown",
     "metadata": {},
     "source": [
      "The Fibonacci sequence is defined by the recurrence relation:\n",
      "\n",
      "$F_n = F_{n-1} + F_{n-2}$, where $F_1 = 1$ and $F_2 = 1$.\n",
      "Hence the first 12 terms will be:\n",
      "\n",
      "$F_1 = 1$  \n",
      "$F_2 = 1$      \n",
      "$F_3 = 2$      \n",
      "$F_4 = 3$   \n",
      "$F_5 = 5 $    \n",
      "$F_6 = 8  $  \n",
      "$F_7 = 13 $   \n",
      "$F_8 = 21  $   \n",
      "$F_9 = 34   $   \n",
      "$F_{10} = 55   $   \n",
      "$F_{11} = 89   $   \n",
      "$F_{12} = 144$  \n",
      "The 12th term, $F_{12}$, is the first term to contain three digits.\n",
      "\n",
      "What is the first term in the Fibonacci sequence to contain 1000 digits?"
     ]
    },
    {
     "cell_type": "code",
     "collapsed": false,
     "input": [],
     "language": "python",
     "metadata": {},
     "outputs": []
    }
   ],
   "metadata": {}
  }
 ]
}